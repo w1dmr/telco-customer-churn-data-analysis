{
 "cells": [
  {
   "cell_type": "code",
   "execution_count": 1,
   "id": "initial_id",
   "metadata": {
    "collapsed": true,
    "ExecuteTime": {
     "end_time": "2024-05-30T16:11:42.195136Z",
     "start_time": "2024-05-30T16:11:41.979619Z"
    }
   },
   "outputs": [],
   "source": [
    "import numpy as np\n",
    "import pandas as pd\n",
    "import matplotlib.pyplot as plt\n",
    "\n",
    "from phik.report import plot_correlation_matrix\n",
    "from scipy import stats\n",
    "\n",
    "pd.set_option('display.max_columns', None) # Отобразить все колонки"
   ]
  },
  {
   "cell_type": "markdown",
   "source": [
    "# Знакомство с данными"
   ],
   "metadata": {
    "collapsed": false
   },
   "id": "fbb50950779ca30b"
  },
  {
   "cell_type": "markdown",
   "source": [
    "Для анализа будем использовать следующий набор данных: [Telco Customer Churn](https://www.kaggle.com/datasets/blastchar/telco-customer-churn). Каждая строка набора данных представляет клиента, а каждый столбец содержит атрибуты клиента. Набор данных включает информацию:\n",
    "\n",
    "1) Клиенты, которые ушли в течение последнего месяца — колонка называется `Churn`.\n",
    "2) Услуги, на которые подписался каждый клиент — телефон, несколько линий, интернет, онлайн-безопасность, резервное копирование, защита устройств, техническая поддержка, потоковое ТВ и фильмы.\n",
    "3) Информация о счетах клиентов — как долго они являются клиентами, контракт, способ оплаты, безналичные счета, ежемесячные платежи и общая сумма платежей.\n",
    "4) Демографическая информация о клиентах — пол, возраст, наличие партнеров и иждивенцев."
   ],
   "metadata": {
    "collapsed": false
   },
   "id": "f3c2b9404dc78323"
  },
  {
   "cell_type": "markdown",
   "source": [
    "![Telco Customer Churn](./dataset-cover.jpg)"
   ],
   "metadata": {
    "collapsed": false
   },
   "id": "be7c1f46c6f05b86"
  },
  {
   "cell_type": "code",
   "outputs": [
    {
     "data": {
      "text/plain": "   customerID  gender  SeniorCitizen Partner Dependents  tenure PhoneService  \\\n0  7590-VHVEG  Female              0     Yes         No       1           No   \n1  5575-GNVDE    Male              0      No         No      34          Yes   \n2  3668-QPYBK    Male              0      No         No       2          Yes   \n3  7795-CFOCW    Male              0      No         No      45           No   \n4  9237-HQITU  Female              0      No         No       2          Yes   \n\n      MultipleLines InternetService OnlineSecurity OnlineBackup  \\\n0  No phone service             DSL             No          Yes   \n1                No             DSL            Yes           No   \n2                No             DSL            Yes          Yes   \n3  No phone service             DSL            Yes           No   \n4                No     Fiber optic             No           No   \n\n  DeviceProtection TechSupport StreamingTV StreamingMovies        Contract  \\\n0               No          No          No              No  Month-to-month   \n1              Yes          No          No              No        One year   \n2               No          No          No              No  Month-to-month   \n3              Yes         Yes          No              No        One year   \n4               No          No          No              No  Month-to-month   \n\n  PaperlessBilling              PaymentMethod  MonthlyCharges TotalCharges  \\\n0              Yes           Electronic check           29.85        29.85   \n1               No               Mailed check           56.95       1889.5   \n2              Yes               Mailed check           53.85       108.15   \n3               No  Bank transfer (automatic)           42.30      1840.75   \n4              Yes           Electronic check           70.70       151.65   \n\n  Churn  \n0    No  \n1    No  \n2   Yes  \n3    No  \n4   Yes  ",
      "text/html": "<div>\n<style scoped>\n    .dataframe tbody tr th:only-of-type {\n        vertical-align: middle;\n    }\n\n    .dataframe tbody tr th {\n        vertical-align: top;\n    }\n\n    .dataframe thead th {\n        text-align: right;\n    }\n</style>\n<table border=\"1\" class=\"dataframe\">\n  <thead>\n    <tr style=\"text-align: right;\">\n      <th></th>\n      <th>customerID</th>\n      <th>gender</th>\n      <th>SeniorCitizen</th>\n      <th>Partner</th>\n      <th>Dependents</th>\n      <th>tenure</th>\n      <th>PhoneService</th>\n      <th>MultipleLines</th>\n      <th>InternetService</th>\n      <th>OnlineSecurity</th>\n      <th>OnlineBackup</th>\n      <th>DeviceProtection</th>\n      <th>TechSupport</th>\n      <th>StreamingTV</th>\n      <th>StreamingMovies</th>\n      <th>Contract</th>\n      <th>PaperlessBilling</th>\n      <th>PaymentMethod</th>\n      <th>MonthlyCharges</th>\n      <th>TotalCharges</th>\n      <th>Churn</th>\n    </tr>\n  </thead>\n  <tbody>\n    <tr>\n      <th>0</th>\n      <td>7590-VHVEG</td>\n      <td>Female</td>\n      <td>0</td>\n      <td>Yes</td>\n      <td>No</td>\n      <td>1</td>\n      <td>No</td>\n      <td>No phone service</td>\n      <td>DSL</td>\n      <td>No</td>\n      <td>Yes</td>\n      <td>No</td>\n      <td>No</td>\n      <td>No</td>\n      <td>No</td>\n      <td>Month-to-month</td>\n      <td>Yes</td>\n      <td>Electronic check</td>\n      <td>29.85</td>\n      <td>29.85</td>\n      <td>No</td>\n    </tr>\n    <tr>\n      <th>1</th>\n      <td>5575-GNVDE</td>\n      <td>Male</td>\n      <td>0</td>\n      <td>No</td>\n      <td>No</td>\n      <td>34</td>\n      <td>Yes</td>\n      <td>No</td>\n      <td>DSL</td>\n      <td>Yes</td>\n      <td>No</td>\n      <td>Yes</td>\n      <td>No</td>\n      <td>No</td>\n      <td>No</td>\n      <td>One year</td>\n      <td>No</td>\n      <td>Mailed check</td>\n      <td>56.95</td>\n      <td>1889.5</td>\n      <td>No</td>\n    </tr>\n    <tr>\n      <th>2</th>\n      <td>3668-QPYBK</td>\n      <td>Male</td>\n      <td>0</td>\n      <td>No</td>\n      <td>No</td>\n      <td>2</td>\n      <td>Yes</td>\n      <td>No</td>\n      <td>DSL</td>\n      <td>Yes</td>\n      <td>Yes</td>\n      <td>No</td>\n      <td>No</td>\n      <td>No</td>\n      <td>No</td>\n      <td>Month-to-month</td>\n      <td>Yes</td>\n      <td>Mailed check</td>\n      <td>53.85</td>\n      <td>108.15</td>\n      <td>Yes</td>\n    </tr>\n    <tr>\n      <th>3</th>\n      <td>7795-CFOCW</td>\n      <td>Male</td>\n      <td>0</td>\n      <td>No</td>\n      <td>No</td>\n      <td>45</td>\n      <td>No</td>\n      <td>No phone service</td>\n      <td>DSL</td>\n      <td>Yes</td>\n      <td>No</td>\n      <td>Yes</td>\n      <td>Yes</td>\n      <td>No</td>\n      <td>No</td>\n      <td>One year</td>\n      <td>No</td>\n      <td>Bank transfer (automatic)</td>\n      <td>42.30</td>\n      <td>1840.75</td>\n      <td>No</td>\n    </tr>\n    <tr>\n      <th>4</th>\n      <td>9237-HQITU</td>\n      <td>Female</td>\n      <td>0</td>\n      <td>No</td>\n      <td>No</td>\n      <td>2</td>\n      <td>Yes</td>\n      <td>No</td>\n      <td>Fiber optic</td>\n      <td>No</td>\n      <td>No</td>\n      <td>No</td>\n      <td>No</td>\n      <td>No</td>\n      <td>No</td>\n      <td>Month-to-month</td>\n      <td>Yes</td>\n      <td>Electronic check</td>\n      <td>70.70</td>\n      <td>151.65</td>\n      <td>Yes</td>\n    </tr>\n  </tbody>\n</table>\n</div>"
     },
     "execution_count": 2,
     "metadata": {},
     "output_type": "execute_result"
    }
   ],
   "source": [
    "df = pd.read_csv(\"./Churn.csv\")\n",
    "\n",
    "df.head()"
   ],
   "metadata": {
    "collapsed": false,
    "ExecuteTime": {
     "end_time": "2024-05-30T16:11:42.530481Z",
     "start_time": "2024-05-30T16:11:42.487314Z"
    }
   },
   "id": "b217531e4eb2f3f4",
   "execution_count": 2
  },
  {
   "cell_type": "markdown",
   "source": [
    "# Описательный анализ данных"
   ],
   "metadata": {
    "collapsed": false
   },
   "id": "6569015f7fe22f02"
  },
  {
   "cell_type": "markdown",
   "source": [
    "Рассмотрим данные — изучим медианы, средние, дисперсии и т.д."
   ],
   "metadata": {
    "collapsed": false
   },
   "id": "ff1befa7b72c33aa"
  },
  {
   "cell_type": "code",
   "outputs": [
    {
     "data": {
      "text/plain": "       SeniorCitizen       tenure  MonthlyCharges\ncount    7043.000000  7043.000000     7043.000000\nmean        0.162147    32.371149       64.761692\nstd         0.368612    24.559481       30.090047\nmin         0.000000     0.000000       18.250000\n25%         0.000000     9.000000       35.500000\n50%         0.000000    29.000000       70.350000\n75%         0.000000    55.000000       89.850000\nmax         1.000000    72.000000      118.750000",
      "text/html": "<div>\n<style scoped>\n    .dataframe tbody tr th:only-of-type {\n        vertical-align: middle;\n    }\n\n    .dataframe tbody tr th {\n        vertical-align: top;\n    }\n\n    .dataframe thead th {\n        text-align: right;\n    }\n</style>\n<table border=\"1\" class=\"dataframe\">\n  <thead>\n    <tr style=\"text-align: right;\">\n      <th></th>\n      <th>SeniorCitizen</th>\n      <th>tenure</th>\n      <th>MonthlyCharges</th>\n    </tr>\n  </thead>\n  <tbody>\n    <tr>\n      <th>count</th>\n      <td>7043.000000</td>\n      <td>7043.000000</td>\n      <td>7043.000000</td>\n    </tr>\n    <tr>\n      <th>mean</th>\n      <td>0.162147</td>\n      <td>32.371149</td>\n      <td>64.761692</td>\n    </tr>\n    <tr>\n      <th>std</th>\n      <td>0.368612</td>\n      <td>24.559481</td>\n      <td>30.090047</td>\n    </tr>\n    <tr>\n      <th>min</th>\n      <td>0.000000</td>\n      <td>0.000000</td>\n      <td>18.250000</td>\n    </tr>\n    <tr>\n      <th>25%</th>\n      <td>0.000000</td>\n      <td>9.000000</td>\n      <td>35.500000</td>\n    </tr>\n    <tr>\n      <th>50%</th>\n      <td>0.000000</td>\n      <td>29.000000</td>\n      <td>70.350000</td>\n    </tr>\n    <tr>\n      <th>75%</th>\n      <td>0.000000</td>\n      <td>55.000000</td>\n      <td>89.850000</td>\n    </tr>\n    <tr>\n      <th>max</th>\n      <td>1.000000</td>\n      <td>72.000000</td>\n      <td>118.750000</td>\n    </tr>\n  </tbody>\n</table>\n</div>"
     },
     "execution_count": 3,
     "metadata": {},
     "output_type": "execute_result"
    }
   ],
   "source": [
    "df.describe()"
   ],
   "metadata": {
    "collapsed": false,
    "ExecuteTime": {
     "end_time": "2024-05-30T16:11:42.543025Z",
     "start_time": "2024-05-30T16:11:42.531901Z"
    }
   },
   "id": "8b2406ec8c497867",
   "execution_count": 3
  },
  {
   "cell_type": "markdown",
   "source": [
    "**Выводы**:\n",
    "\n",
    "1) 16% клиентов являются пожилыми.\n",
    "2) Медианное количество месяцев, в течение которых клиент оставался в компании, равно 29 (почти 2.5 года).\n",
    "3) Медианная сумма, взимаемая с клиента ежемесячно, равна 70.\n",
    "4) Максимальное количество месяцев, в течение которых клиент оставался в компании, равно 72 (6 лет).\n",
    "5) Максимальная сумма, взимаемая с клиента ежемесячно, равна 119.\n",
    "6) Минимальная сумма, взимаемая с клиента ежемесячно, равна 18.\n",
    "7) Средние и медианные значения числовых данных примерно одинаковые, а это значит, что выбросы отсутствуют в выборке."
   ],
   "metadata": {
    "collapsed": false
   },
   "id": "cf0f6234d3934244"
  },
  {
   "cell_type": "markdown",
   "source": [
    "Рассмотрим уникальные значения категориальных признаков."
   ],
   "metadata": {
    "collapsed": false
   },
   "id": "1e8b59704527f753"
  },
  {
   "cell_type": "code",
   "outputs": [
    {
     "data": {
      "text/plain": "        customerID gender Partner Dependents PhoneService MultipleLines  \\\ncount         7043   7043    7043       7043         7043          7043   \nunique        7043      2       2          2            2             3   \ntop     7590-VHVEG   Male      No         No          Yes            No   \nfreq             1   3555    3641       4933         6361          3390   \n\n       InternetService OnlineSecurity OnlineBackup DeviceProtection  \\\ncount             7043           7043         7043             7043   \nunique               3              3            3                3   \ntop        Fiber optic             No           No               No   \nfreq              3096           3498         3088             3095   \n\n       TechSupport StreamingTV StreamingMovies        Contract  \\\ncount         7043        7043            7043            7043   \nunique           3           3               3               3   \ntop             No          No              No  Month-to-month   \nfreq          3473        2810            2785            3875   \n\n       PaperlessBilling     PaymentMethod TotalCharges Churn  \ncount              7043              7043         7043  7043  \nunique                2                 4         6531     2  \ntop                 Yes  Electronic check                 No  \nfreq               4171              2365           11  5174  ",
      "text/html": "<div>\n<style scoped>\n    .dataframe tbody tr th:only-of-type {\n        vertical-align: middle;\n    }\n\n    .dataframe tbody tr th {\n        vertical-align: top;\n    }\n\n    .dataframe thead th {\n        text-align: right;\n    }\n</style>\n<table border=\"1\" class=\"dataframe\">\n  <thead>\n    <tr style=\"text-align: right;\">\n      <th></th>\n      <th>customerID</th>\n      <th>gender</th>\n      <th>Partner</th>\n      <th>Dependents</th>\n      <th>PhoneService</th>\n      <th>MultipleLines</th>\n      <th>InternetService</th>\n      <th>OnlineSecurity</th>\n      <th>OnlineBackup</th>\n      <th>DeviceProtection</th>\n      <th>TechSupport</th>\n      <th>StreamingTV</th>\n      <th>StreamingMovies</th>\n      <th>Contract</th>\n      <th>PaperlessBilling</th>\n      <th>PaymentMethod</th>\n      <th>TotalCharges</th>\n      <th>Churn</th>\n    </tr>\n  </thead>\n  <tbody>\n    <tr>\n      <th>count</th>\n      <td>7043</td>\n      <td>7043</td>\n      <td>7043</td>\n      <td>7043</td>\n      <td>7043</td>\n      <td>7043</td>\n      <td>7043</td>\n      <td>7043</td>\n      <td>7043</td>\n      <td>7043</td>\n      <td>7043</td>\n      <td>7043</td>\n      <td>7043</td>\n      <td>7043</td>\n      <td>7043</td>\n      <td>7043</td>\n      <td>7043</td>\n      <td>7043</td>\n    </tr>\n    <tr>\n      <th>unique</th>\n      <td>7043</td>\n      <td>2</td>\n      <td>2</td>\n      <td>2</td>\n      <td>2</td>\n      <td>3</td>\n      <td>3</td>\n      <td>3</td>\n      <td>3</td>\n      <td>3</td>\n      <td>3</td>\n      <td>3</td>\n      <td>3</td>\n      <td>3</td>\n      <td>2</td>\n      <td>4</td>\n      <td>6531</td>\n      <td>2</td>\n    </tr>\n    <tr>\n      <th>top</th>\n      <td>7590-VHVEG</td>\n      <td>Male</td>\n      <td>No</td>\n      <td>No</td>\n      <td>Yes</td>\n      <td>No</td>\n      <td>Fiber optic</td>\n      <td>No</td>\n      <td>No</td>\n      <td>No</td>\n      <td>No</td>\n      <td>No</td>\n      <td>No</td>\n      <td>Month-to-month</td>\n      <td>Yes</td>\n      <td>Electronic check</td>\n      <td></td>\n      <td>No</td>\n    </tr>\n    <tr>\n      <th>freq</th>\n      <td>1</td>\n      <td>3555</td>\n      <td>3641</td>\n      <td>4933</td>\n      <td>6361</td>\n      <td>3390</td>\n      <td>3096</td>\n      <td>3498</td>\n      <td>3088</td>\n      <td>3095</td>\n      <td>3473</td>\n      <td>2810</td>\n      <td>2785</td>\n      <td>3875</td>\n      <td>4171</td>\n      <td>2365</td>\n      <td>11</td>\n      <td>5174</td>\n    </tr>\n  </tbody>\n</table>\n</div>"
     },
     "execution_count": 4,
     "metadata": {},
     "output_type": "execute_result"
    }
   ],
   "source": [
    "df.describe(include=object)"
   ],
   "metadata": {
    "collapsed": false,
    "ExecuteTime": {
     "end_time": "2024-05-30T16:11:42.611931Z",
     "start_time": "2024-05-30T16:11:42.573616Z"
    }
   },
   "id": "b4e8f38e4273c6f6",
   "execution_count": 4
  },
  {
   "cell_type": "markdown",
   "source": [
    "**Выводы:**\n",
    "\n",
    "1) Большинство клиентов являются мужчинами.\n",
    "2) В основном клиенты не пользуются дополнительными услугами (онлайн-безопасностью, резервным копированием, защитой устройств и т.д.).\n",
    "3) Подавляющее большинство клиентов подключили кабельный интернет.\n",
    "4) У многих клиентов есть телефонная связь без дополнительных линий.\n",
    "5) Большая часть клиентов подписала контракт на один месяц.\n",
    "6) В большинстве своем клиенты используют безналичный расчет.\n",
    "7) В основном клиенты не уходили в течение последнего месяца."
   ],
   "metadata": {
    "collapsed": false
   },
   "id": "ade19a85dc4ce97"
  },
  {
   "cell_type": "markdown",
   "source": [
    "# Обработка данных"
   ],
   "metadata": {
    "collapsed": false
   },
   "id": "e18ebba907656d1"
  },
  {
   "cell_type": "markdown",
   "source": [
    "## Проверка на наличие дубликатов"
   ],
   "metadata": {
    "collapsed": false
   },
   "id": "83a12adf0eef0996"
  },
  {
   "cell_type": "markdown",
   "source": [
    "Проверим датасет на наличие дубликатов и удалим, если они есть."
   ],
   "metadata": {
    "collapsed": false
   },
   "id": "7c456580339dcd54"
  },
  {
   "cell_type": "code",
   "outputs": [
    {
     "data": {
      "text/plain": "0"
     },
     "execution_count": 5,
     "metadata": {},
     "output_type": "execute_result"
    }
   ],
   "source": [
    "df.duplicated().sum()"
   ],
   "metadata": {
    "collapsed": false,
    "ExecuteTime": {
     "end_time": "2024-05-30T16:11:42.636620Z",
     "start_time": "2024-05-30T16:11:42.623666Z"
    }
   },
   "id": "e9fa151a80fafef3",
   "execution_count": 5
  },
  {
   "cell_type": "markdown",
   "source": [
    "Дубликаты отсутствуют, поэтому удалять нечего."
   ],
   "metadata": {
    "collapsed": false
   },
   "id": "849b75c4f3a50468"
  },
  {
   "cell_type": "markdown",
   "source": [
    "## Проверка на наличие отсутствующих значений"
   ],
   "metadata": {
    "collapsed": false
   },
   "id": "8a2fecf68c788abf"
  },
  {
   "cell_type": "markdown",
   "source": [
    "Посмотрим, если ли в датафрейме отсутствующие значения."
   ],
   "metadata": {
    "collapsed": false
   },
   "id": "3937fcc2079a285f"
  },
  {
   "cell_type": "code",
   "outputs": [
    {
     "data": {
      "text/plain": "customerID          0\ngender              0\nSeniorCitizen       0\nPartner             0\nDependents          0\ntenure              0\nPhoneService        0\nMultipleLines       0\nInternetService     0\nOnlineSecurity      0\nOnlineBackup        0\nDeviceProtection    0\nTechSupport         0\nStreamingTV         0\nStreamingMovies     0\nContract            0\nPaperlessBilling    0\nPaymentMethod       0\nMonthlyCharges      0\nTotalCharges        0\nChurn               0\ndtype: int64"
     },
     "execution_count": 6,
     "metadata": {},
     "output_type": "execute_result"
    }
   ],
   "source": [
    "df.isna().sum()"
   ],
   "metadata": {
    "collapsed": false,
    "ExecuteTime": {
     "end_time": "2024-05-30T16:11:42.734604Z",
     "start_time": "2024-05-30T16:11:42.724577Z"
    }
   },
   "id": "df1dafb0c23a6bde",
   "execution_count": 6
  },
  {
   "cell_type": "markdown",
   "source": [
    "Отсутствующие значения не обнаружены, однако обратим внимание на столбец `TotalCharges`, в котором есть значения с пустыми строками. Дело в том, что не всегда в данных есть явные пропуски, которые легко индексируются средствами `Pandas`. К сожалению, бывают проблемы с выгрузками данных, некачественными источниками, или когда данные записываются вручную — часто присутствует человеческий фактор. По мере работы с новыми данными лучше проверять на наличие таких данных, иначе из-за этого исследование может исказиться."
   ],
   "metadata": {
    "collapsed": false
   },
   "id": "5f636cd04927c8cf"
  },
  {
   "cell_type": "code",
   "outputs": [
    {
     "data": {
      "text/plain": "count     7043\nunique    6531\ntop           \nfreq        11\nName: TotalCharges, dtype: object"
     },
     "execution_count": 7,
     "metadata": {},
     "output_type": "execute_result"
    }
   ],
   "source": [
    "df.describe(include=object)['TotalCharges']"
   ],
   "metadata": {
    "collapsed": false,
    "ExecuteTime": {
     "end_time": "2024-05-30T16:11:42.953066Z",
     "start_time": "2024-05-30T16:11:42.919627Z"
    }
   },
   "id": "30ab7fc67336640a",
   "execution_count": 7
  },
  {
   "cell_type": "markdown",
   "source": [
    "Реализуем функцию для проверки всех столбцов на наличие неявных пропусков."
   ],
   "metadata": {
    "collapsed": false
   },
   "id": "ff4afee31488bb0f"
  },
  {
   "cell_type": "code",
   "outputs": [
    {
     "name": "stdout",
     "output_type": "stream",
     "text": [
      "Неявные пропуски столбца TotalCharges: 11\n"
     ]
    }
   ],
   "source": [
    "for col in df:\n",
    "    if df[col].dtype == 'object':\n",
    "        nans = df[col].apply(lambda x: len(x.strip()) == 0).sum()\n",
    "        if nans > 0:\n",
    "            print(f'Неявные пропуски столбца {col}:', nans)"
   ],
   "metadata": {
    "collapsed": false,
    "ExecuteTime": {
     "end_time": "2024-05-30T16:11:43.192265Z",
     "start_time": "2024-05-30T16:11:43.162820Z"
    }
   },
   "id": "154003a401babd84",
   "execution_count": 8
  },
  {
   "cell_type": "markdown",
   "source": [
    "Видим, что таких пропусков 11 в столбце `TotalCharges`. Преобразуем этот столбец в числовой с аргументом `errors='coerce'`, который позволяет некорректные значения преобразовать в `NaN`."
   ],
   "metadata": {
    "collapsed": false
   },
   "id": "af22edaee37234f9"
  },
  {
   "cell_type": "code",
   "outputs": [
    {
     "data": {
      "text/plain": "      customerID  gender  SeniorCitizen Partner Dependents  tenure  \\\n488   4472-LVYGI  Female              0     Yes        Yes       0   \n753   3115-CZMZD    Male              0      No        Yes       0   \n936   5709-LVOEQ  Female              0     Yes        Yes       0   \n1082  4367-NUYAO    Male              0     Yes        Yes       0   \n1340  1371-DWPAZ  Female              0     Yes        Yes       0   \n3331  7644-OMVMY    Male              0     Yes        Yes       0   \n3826  3213-VVOLG    Male              0     Yes        Yes       0   \n4380  2520-SGTTA  Female              0     Yes        Yes       0   \n5218  2923-ARZLG    Male              0     Yes        Yes       0   \n6670  4075-WKNIU  Female              0     Yes        Yes       0   \n6754  2775-SEFEE    Male              0      No        Yes       0   \n\n     PhoneService     MultipleLines InternetService       OnlineSecurity  \\\n488            No  No phone service             DSL                  Yes   \n753           Yes                No              No  No internet service   \n936           Yes                No             DSL                  Yes   \n1082          Yes               Yes              No  No internet service   \n1340           No  No phone service             DSL                  Yes   \n3331          Yes                No              No  No internet service   \n3826          Yes               Yes              No  No internet service   \n4380          Yes                No              No  No internet service   \n5218          Yes                No              No  No internet service   \n6670          Yes               Yes             DSL                   No   \n6754          Yes               Yes             DSL                  Yes   \n\n             OnlineBackup     DeviceProtection          TechSupport  \\\n488                    No                  Yes                  Yes   \n753   No internet service  No internet service  No internet service   \n936                   Yes                  Yes                   No   \n1082  No internet service  No internet service  No internet service   \n1340                  Yes                  Yes                  Yes   \n3331  No internet service  No internet service  No internet service   \n3826  No internet service  No internet service  No internet service   \n4380  No internet service  No internet service  No internet service   \n5218  No internet service  No internet service  No internet service   \n6670                  Yes                  Yes                  Yes   \n6754                  Yes                   No                  Yes   \n\n              StreamingTV      StreamingMovies  Contract PaperlessBilling  \\\n488                   Yes                   No  Two year              Yes   \n753   No internet service  No internet service  Two year               No   \n936                   Yes                  Yes  Two year               No   \n1082  No internet service  No internet service  Two year               No   \n1340                  Yes                   No  Two year               No   \n3331  No internet service  No internet service  Two year               No   \n3826  No internet service  No internet service  Two year               No   \n4380  No internet service  No internet service  Two year               No   \n5218  No internet service  No internet service  One year              Yes   \n6670                  Yes                   No  Two year               No   \n6754                   No                   No  Two year              Yes   \n\n                  PaymentMethod  MonthlyCharges  TotalCharges Churn  \n488   Bank transfer (automatic)           52.55           NaN    No  \n753                Mailed check           20.25           NaN    No  \n936                Mailed check           80.85           NaN    No  \n1082               Mailed check           25.75           NaN    No  \n1340    Credit card (automatic)           56.05           NaN    No  \n3331               Mailed check           19.85           NaN    No  \n3826               Mailed check           25.35           NaN    No  \n4380               Mailed check           20.00           NaN    No  \n5218               Mailed check           19.70           NaN    No  \n6670               Mailed check           73.35           NaN    No  \n6754  Bank transfer (automatic)           61.90           NaN    No  ",
      "text/html": "<div>\n<style scoped>\n    .dataframe tbody tr th:only-of-type {\n        vertical-align: middle;\n    }\n\n    .dataframe tbody tr th {\n        vertical-align: top;\n    }\n\n    .dataframe thead th {\n        text-align: right;\n    }\n</style>\n<table border=\"1\" class=\"dataframe\">\n  <thead>\n    <tr style=\"text-align: right;\">\n      <th></th>\n      <th>customerID</th>\n      <th>gender</th>\n      <th>SeniorCitizen</th>\n      <th>Partner</th>\n      <th>Dependents</th>\n      <th>tenure</th>\n      <th>PhoneService</th>\n      <th>MultipleLines</th>\n      <th>InternetService</th>\n      <th>OnlineSecurity</th>\n      <th>OnlineBackup</th>\n      <th>DeviceProtection</th>\n      <th>TechSupport</th>\n      <th>StreamingTV</th>\n      <th>StreamingMovies</th>\n      <th>Contract</th>\n      <th>PaperlessBilling</th>\n      <th>PaymentMethod</th>\n      <th>MonthlyCharges</th>\n      <th>TotalCharges</th>\n      <th>Churn</th>\n    </tr>\n  </thead>\n  <tbody>\n    <tr>\n      <th>488</th>\n      <td>4472-LVYGI</td>\n      <td>Female</td>\n      <td>0</td>\n      <td>Yes</td>\n      <td>Yes</td>\n      <td>0</td>\n      <td>No</td>\n      <td>No phone service</td>\n      <td>DSL</td>\n      <td>Yes</td>\n      <td>No</td>\n      <td>Yes</td>\n      <td>Yes</td>\n      <td>Yes</td>\n      <td>No</td>\n      <td>Two year</td>\n      <td>Yes</td>\n      <td>Bank transfer (automatic)</td>\n      <td>52.55</td>\n      <td>NaN</td>\n      <td>No</td>\n    </tr>\n    <tr>\n      <th>753</th>\n      <td>3115-CZMZD</td>\n      <td>Male</td>\n      <td>0</td>\n      <td>No</td>\n      <td>Yes</td>\n      <td>0</td>\n      <td>Yes</td>\n      <td>No</td>\n      <td>No</td>\n      <td>No internet service</td>\n      <td>No internet service</td>\n      <td>No internet service</td>\n      <td>No internet service</td>\n      <td>No internet service</td>\n      <td>No internet service</td>\n      <td>Two year</td>\n      <td>No</td>\n      <td>Mailed check</td>\n      <td>20.25</td>\n      <td>NaN</td>\n      <td>No</td>\n    </tr>\n    <tr>\n      <th>936</th>\n      <td>5709-LVOEQ</td>\n      <td>Female</td>\n      <td>0</td>\n      <td>Yes</td>\n      <td>Yes</td>\n      <td>0</td>\n      <td>Yes</td>\n      <td>No</td>\n      <td>DSL</td>\n      <td>Yes</td>\n      <td>Yes</td>\n      <td>Yes</td>\n      <td>No</td>\n      <td>Yes</td>\n      <td>Yes</td>\n      <td>Two year</td>\n      <td>No</td>\n      <td>Mailed check</td>\n      <td>80.85</td>\n      <td>NaN</td>\n      <td>No</td>\n    </tr>\n    <tr>\n      <th>1082</th>\n      <td>4367-NUYAO</td>\n      <td>Male</td>\n      <td>0</td>\n      <td>Yes</td>\n      <td>Yes</td>\n      <td>0</td>\n      <td>Yes</td>\n      <td>Yes</td>\n      <td>No</td>\n      <td>No internet service</td>\n      <td>No internet service</td>\n      <td>No internet service</td>\n      <td>No internet service</td>\n      <td>No internet service</td>\n      <td>No internet service</td>\n      <td>Two year</td>\n      <td>No</td>\n      <td>Mailed check</td>\n      <td>25.75</td>\n      <td>NaN</td>\n      <td>No</td>\n    </tr>\n    <tr>\n      <th>1340</th>\n      <td>1371-DWPAZ</td>\n      <td>Female</td>\n      <td>0</td>\n      <td>Yes</td>\n      <td>Yes</td>\n      <td>0</td>\n      <td>No</td>\n      <td>No phone service</td>\n      <td>DSL</td>\n      <td>Yes</td>\n      <td>Yes</td>\n      <td>Yes</td>\n      <td>Yes</td>\n      <td>Yes</td>\n      <td>No</td>\n      <td>Two year</td>\n      <td>No</td>\n      <td>Credit card (automatic)</td>\n      <td>56.05</td>\n      <td>NaN</td>\n      <td>No</td>\n    </tr>\n    <tr>\n      <th>3331</th>\n      <td>7644-OMVMY</td>\n      <td>Male</td>\n      <td>0</td>\n      <td>Yes</td>\n      <td>Yes</td>\n      <td>0</td>\n      <td>Yes</td>\n      <td>No</td>\n      <td>No</td>\n      <td>No internet service</td>\n      <td>No internet service</td>\n      <td>No internet service</td>\n      <td>No internet service</td>\n      <td>No internet service</td>\n      <td>No internet service</td>\n      <td>Two year</td>\n      <td>No</td>\n      <td>Mailed check</td>\n      <td>19.85</td>\n      <td>NaN</td>\n      <td>No</td>\n    </tr>\n    <tr>\n      <th>3826</th>\n      <td>3213-VVOLG</td>\n      <td>Male</td>\n      <td>0</td>\n      <td>Yes</td>\n      <td>Yes</td>\n      <td>0</td>\n      <td>Yes</td>\n      <td>Yes</td>\n      <td>No</td>\n      <td>No internet service</td>\n      <td>No internet service</td>\n      <td>No internet service</td>\n      <td>No internet service</td>\n      <td>No internet service</td>\n      <td>No internet service</td>\n      <td>Two year</td>\n      <td>No</td>\n      <td>Mailed check</td>\n      <td>25.35</td>\n      <td>NaN</td>\n      <td>No</td>\n    </tr>\n    <tr>\n      <th>4380</th>\n      <td>2520-SGTTA</td>\n      <td>Female</td>\n      <td>0</td>\n      <td>Yes</td>\n      <td>Yes</td>\n      <td>0</td>\n      <td>Yes</td>\n      <td>No</td>\n      <td>No</td>\n      <td>No internet service</td>\n      <td>No internet service</td>\n      <td>No internet service</td>\n      <td>No internet service</td>\n      <td>No internet service</td>\n      <td>No internet service</td>\n      <td>Two year</td>\n      <td>No</td>\n      <td>Mailed check</td>\n      <td>20.00</td>\n      <td>NaN</td>\n      <td>No</td>\n    </tr>\n    <tr>\n      <th>5218</th>\n      <td>2923-ARZLG</td>\n      <td>Male</td>\n      <td>0</td>\n      <td>Yes</td>\n      <td>Yes</td>\n      <td>0</td>\n      <td>Yes</td>\n      <td>No</td>\n      <td>No</td>\n      <td>No internet service</td>\n      <td>No internet service</td>\n      <td>No internet service</td>\n      <td>No internet service</td>\n      <td>No internet service</td>\n      <td>No internet service</td>\n      <td>One year</td>\n      <td>Yes</td>\n      <td>Mailed check</td>\n      <td>19.70</td>\n      <td>NaN</td>\n      <td>No</td>\n    </tr>\n    <tr>\n      <th>6670</th>\n      <td>4075-WKNIU</td>\n      <td>Female</td>\n      <td>0</td>\n      <td>Yes</td>\n      <td>Yes</td>\n      <td>0</td>\n      <td>Yes</td>\n      <td>Yes</td>\n      <td>DSL</td>\n      <td>No</td>\n      <td>Yes</td>\n      <td>Yes</td>\n      <td>Yes</td>\n      <td>Yes</td>\n      <td>No</td>\n      <td>Two year</td>\n      <td>No</td>\n      <td>Mailed check</td>\n      <td>73.35</td>\n      <td>NaN</td>\n      <td>No</td>\n    </tr>\n    <tr>\n      <th>6754</th>\n      <td>2775-SEFEE</td>\n      <td>Male</td>\n      <td>0</td>\n      <td>No</td>\n      <td>Yes</td>\n      <td>0</td>\n      <td>Yes</td>\n      <td>Yes</td>\n      <td>DSL</td>\n      <td>Yes</td>\n      <td>Yes</td>\n      <td>No</td>\n      <td>Yes</td>\n      <td>No</td>\n      <td>No</td>\n      <td>Two year</td>\n      <td>Yes</td>\n      <td>Bank transfer (automatic)</td>\n      <td>61.90</td>\n      <td>NaN</td>\n      <td>No</td>\n    </tr>\n  </tbody>\n</table>\n</div>"
     },
     "execution_count": 9,
     "metadata": {},
     "output_type": "execute_result"
    }
   ],
   "source": [
    "df[\"TotalCharges\"] = pd.to_numeric(df[\"TotalCharges\"], errors = 'coerce')\n",
    "\n",
    "df[df[\"TotalCharges\"].isna()]"
   ],
   "metadata": {
    "collapsed": false,
    "ExecuteTime": {
     "end_time": "2024-05-30T16:11:43.342453Z",
     "start_time": "2024-05-30T16:11:43.323016Z"
    }
   },
   "id": "6d724d3abc1439dc",
   "execution_count": 9
  },
  {
   "cell_type": "markdown",
   "source": [
    "Теперь можно либо удалить эти строки, либо заменить их на какие-то значения. Лучше заменить, чтобы не потерять данные, однако в таком случае необходимо найти зависимость. Посмотрим внимательно на столбцы `tenure`, `MonthlyCharges` и `TotalCharges`."
   ],
   "metadata": {
    "collapsed": false
   },
   "id": "51cc0460acd5f740"
  },
  {
   "cell_type": "code",
   "outputs": [
    {
     "data": {
      "text/plain": "      tenure  MonthlyCharges  TotalCharges\n139        1           70.45         70.45\n6201       5           80.70        374.80\n5154      17          104.20       1743.50\n1351      11           20.45        250.80\n260        3           41.15        132.20",
      "text/html": "<div>\n<style scoped>\n    .dataframe tbody tr th:only-of-type {\n        vertical-align: middle;\n    }\n\n    .dataframe tbody tr th {\n        vertical-align: top;\n    }\n\n    .dataframe thead th {\n        text-align: right;\n    }\n</style>\n<table border=\"1\" class=\"dataframe\">\n  <thead>\n    <tr style=\"text-align: right;\">\n      <th></th>\n      <th>tenure</th>\n      <th>MonthlyCharges</th>\n      <th>TotalCharges</th>\n    </tr>\n  </thead>\n  <tbody>\n    <tr>\n      <th>139</th>\n      <td>1</td>\n      <td>70.45</td>\n      <td>70.45</td>\n    </tr>\n    <tr>\n      <th>6201</th>\n      <td>5</td>\n      <td>80.70</td>\n      <td>374.80</td>\n    </tr>\n    <tr>\n      <th>5154</th>\n      <td>17</td>\n      <td>104.20</td>\n      <td>1743.50</td>\n    </tr>\n    <tr>\n      <th>1351</th>\n      <td>11</td>\n      <td>20.45</td>\n      <td>250.80</td>\n    </tr>\n    <tr>\n      <th>260</th>\n      <td>3</td>\n      <td>41.15</td>\n      <td>132.20</td>\n    </tr>\n  </tbody>\n</table>\n</div>"
     },
     "execution_count": 10,
     "metadata": {},
     "output_type": "execute_result"
    }
   ],
   "source": [
    "df[['tenure', 'MonthlyCharges', 'TotalCharges']].sample(5)"
   ],
   "metadata": {
    "collapsed": false,
    "ExecuteTime": {
     "end_time": "2024-05-30T16:11:43.501781Z",
     "start_time": "2024-05-30T16:11:43.493056Z"
    }
   },
   "id": "46a036891300feaa",
   "execution_count": 10
  },
  {
   "cell_type": "markdown",
   "source": [
    "Общая сумма, списанная с клиента, равна сумме, взимаемой с клиента ежемесячно умноженной на количество времени (`TotalCharges` = `MonthlyCharges` * время)."
   ],
   "metadata": {
    "collapsed": false
   },
   "id": "142be979456e6c3"
  },
  {
   "cell_type": "code",
   "outputs": [
    {
     "data": {
      "text/plain": "    customerID  gender  SeniorCitizen Partner Dependents  tenure PhoneService  \\\n0   7590-VHVEG  Female              0     Yes         No       1           No   \n20  8779-QRDMV    Male              1      No         No       1           No   \n22  1066-JKSGK    Male              0      No         No       1          Yes   \n27  8665-UTDHZ    Male              0     Yes        Yes       1           No   \n33  7310-EGVHZ    Male              0      No         No       1          Yes   \n\n       MultipleLines InternetService       OnlineSecurity  \\\n0   No phone service             DSL                   No   \n20  No phone service             DSL                   No   \n22                No              No  No internet service   \n27  No phone service             DSL                   No   \n33                No              No  No internet service   \n\n           OnlineBackup     DeviceProtection          TechSupport  \\\n0                   Yes                   No                   No   \n20                   No                  Yes                   No   \n22  No internet service  No internet service  No internet service   \n27                  Yes                   No                   No   \n33  No internet service  No internet service  No internet service   \n\n            StreamingTV      StreamingMovies        Contract PaperlessBilling  \\\n0                    No                   No  Month-to-month              Yes   \n20                   No                  Yes  Month-to-month              Yes   \n22  No internet service  No internet service  Month-to-month               No   \n27                   No                   No  Month-to-month               No   \n33  No internet service  No internet service  Month-to-month               No   \n\n                PaymentMethod  MonthlyCharges  TotalCharges Churn  \n0            Electronic check           29.85         29.85    No  \n20           Electronic check           39.65         39.65   Yes  \n22               Mailed check           20.15         20.15   Yes  \n27           Electronic check           30.20         30.20   Yes  \n33  Bank transfer (automatic)           20.20         20.20    No  ",
      "text/html": "<div>\n<style scoped>\n    .dataframe tbody tr th:only-of-type {\n        vertical-align: middle;\n    }\n\n    .dataframe tbody tr th {\n        vertical-align: top;\n    }\n\n    .dataframe thead th {\n        text-align: right;\n    }\n</style>\n<table border=\"1\" class=\"dataframe\">\n  <thead>\n    <tr style=\"text-align: right;\">\n      <th></th>\n      <th>customerID</th>\n      <th>gender</th>\n      <th>SeniorCitizen</th>\n      <th>Partner</th>\n      <th>Dependents</th>\n      <th>tenure</th>\n      <th>PhoneService</th>\n      <th>MultipleLines</th>\n      <th>InternetService</th>\n      <th>OnlineSecurity</th>\n      <th>OnlineBackup</th>\n      <th>DeviceProtection</th>\n      <th>TechSupport</th>\n      <th>StreamingTV</th>\n      <th>StreamingMovies</th>\n      <th>Contract</th>\n      <th>PaperlessBilling</th>\n      <th>PaymentMethod</th>\n      <th>MonthlyCharges</th>\n      <th>TotalCharges</th>\n      <th>Churn</th>\n    </tr>\n  </thead>\n  <tbody>\n    <tr>\n      <th>0</th>\n      <td>7590-VHVEG</td>\n      <td>Female</td>\n      <td>0</td>\n      <td>Yes</td>\n      <td>No</td>\n      <td>1</td>\n      <td>No</td>\n      <td>No phone service</td>\n      <td>DSL</td>\n      <td>No</td>\n      <td>Yes</td>\n      <td>No</td>\n      <td>No</td>\n      <td>No</td>\n      <td>No</td>\n      <td>Month-to-month</td>\n      <td>Yes</td>\n      <td>Electronic check</td>\n      <td>29.85</td>\n      <td>29.85</td>\n      <td>No</td>\n    </tr>\n    <tr>\n      <th>20</th>\n      <td>8779-QRDMV</td>\n      <td>Male</td>\n      <td>1</td>\n      <td>No</td>\n      <td>No</td>\n      <td>1</td>\n      <td>No</td>\n      <td>No phone service</td>\n      <td>DSL</td>\n      <td>No</td>\n      <td>No</td>\n      <td>Yes</td>\n      <td>No</td>\n      <td>No</td>\n      <td>Yes</td>\n      <td>Month-to-month</td>\n      <td>Yes</td>\n      <td>Electronic check</td>\n      <td>39.65</td>\n      <td>39.65</td>\n      <td>Yes</td>\n    </tr>\n    <tr>\n      <th>22</th>\n      <td>1066-JKSGK</td>\n      <td>Male</td>\n      <td>0</td>\n      <td>No</td>\n      <td>No</td>\n      <td>1</td>\n      <td>Yes</td>\n      <td>No</td>\n      <td>No</td>\n      <td>No internet service</td>\n      <td>No internet service</td>\n      <td>No internet service</td>\n      <td>No internet service</td>\n      <td>No internet service</td>\n      <td>No internet service</td>\n      <td>Month-to-month</td>\n      <td>No</td>\n      <td>Mailed check</td>\n      <td>20.15</td>\n      <td>20.15</td>\n      <td>Yes</td>\n    </tr>\n    <tr>\n      <th>27</th>\n      <td>8665-UTDHZ</td>\n      <td>Male</td>\n      <td>0</td>\n      <td>Yes</td>\n      <td>Yes</td>\n      <td>1</td>\n      <td>No</td>\n      <td>No phone service</td>\n      <td>DSL</td>\n      <td>No</td>\n      <td>Yes</td>\n      <td>No</td>\n      <td>No</td>\n      <td>No</td>\n      <td>No</td>\n      <td>Month-to-month</td>\n      <td>No</td>\n      <td>Electronic check</td>\n      <td>30.20</td>\n      <td>30.20</td>\n      <td>Yes</td>\n    </tr>\n    <tr>\n      <th>33</th>\n      <td>7310-EGVHZ</td>\n      <td>Male</td>\n      <td>0</td>\n      <td>No</td>\n      <td>No</td>\n      <td>1</td>\n      <td>Yes</td>\n      <td>No</td>\n      <td>No</td>\n      <td>No internet service</td>\n      <td>No internet service</td>\n      <td>No internet service</td>\n      <td>No internet service</td>\n      <td>No internet service</td>\n      <td>No internet service</td>\n      <td>Month-to-month</td>\n      <td>No</td>\n      <td>Bank transfer (automatic)</td>\n      <td>20.20</td>\n      <td>20.20</td>\n      <td>No</td>\n    </tr>\n  </tbody>\n</table>\n</div>"
     },
     "execution_count": 11,
     "metadata": {},
     "output_type": "execute_result"
    }
   ],
   "source": [
    "df[(df['TotalCharges'] / df['MonthlyCharges']) == df['tenure']].head()"
   ],
   "metadata": {
    "collapsed": false,
    "ExecuteTime": {
     "end_time": "2024-05-30T16:11:43.586233Z",
     "start_time": "2024-05-30T16:11:43.567888Z"
    }
   },
   "id": "72f34081a1df6c43",
   "execution_count": 11
  },
  {
   "cell_type": "markdown",
   "source": [
    "Нашей гипотезе есть место быть. Однако в данном датасете указано только количество месяцев, без точного времени, поэтому будет грубо просто перемножить один столбец на другой. Но пропуски мы уже можем заменить на 0, так как в тех строках `tenure` равно 0, где есть пропуски в столбце `TotalCharges`."
   ],
   "metadata": {
    "collapsed": false
   },
   "id": "6c7ce499cc0c7367"
  },
  {
   "cell_type": "code",
   "outputs": [],
   "source": [
    "df.fillna({'TotalCharges': 0}, inplace=True)"
   ],
   "metadata": {
    "collapsed": false,
    "ExecuteTime": {
     "end_time": "2024-05-30T16:11:43.682032Z",
     "start_time": "2024-05-30T16:11:43.677457Z"
    }
   },
   "id": "672354d6cecff149",
   "execution_count": 12
  },
  {
   "cell_type": "markdown",
   "source": [
    "Пропусков больше нет."
   ],
   "metadata": {
    "collapsed": false
   },
   "id": "bef462b250324c6f"
  },
  {
   "cell_type": "markdown",
   "source": [
    "## Изменение типа данных"
   ],
   "metadata": {
    "collapsed": false
   },
   "id": "e73cd48f33ea7bf3"
  },
  {
   "cell_type": "markdown",
   "source": [
    "Рассмотрим все данные, заменим типы на нужные (при необходимости)."
   ],
   "metadata": {
    "collapsed": false
   },
   "id": "38e3b85d9ba3a430"
  },
  {
   "cell_type": "code",
   "outputs": [
    {
     "name": "stdout",
     "output_type": "stream",
     "text": [
      "<class 'pandas.core.frame.DataFrame'>\n",
      "RangeIndex: 7043 entries, 0 to 7042\n",
      "Data columns (total 21 columns):\n",
      " #   Column            Non-Null Count  Dtype  \n",
      "---  ------            --------------  -----  \n",
      " 0   customerID        7043 non-null   object \n",
      " 1   gender            7043 non-null   object \n",
      " 2   SeniorCitizen     7043 non-null   int64  \n",
      " 3   Partner           7043 non-null   object \n",
      " 4   Dependents        7043 non-null   object \n",
      " 5   tenure            7043 non-null   int64  \n",
      " 6   PhoneService      7043 non-null   object \n",
      " 7   MultipleLines     7043 non-null   object \n",
      " 8   InternetService   7043 non-null   object \n",
      " 9   OnlineSecurity    7043 non-null   object \n",
      " 10  OnlineBackup      7043 non-null   object \n",
      " 11  DeviceProtection  7043 non-null   object \n",
      " 12  TechSupport       7043 non-null   object \n",
      " 13  StreamingTV       7043 non-null   object \n",
      " 14  StreamingMovies   7043 non-null   object \n",
      " 15  Contract          7043 non-null   object \n",
      " 16  PaperlessBilling  7043 non-null   object \n",
      " 17  PaymentMethod     7043 non-null   object \n",
      " 18  MonthlyCharges    7043 non-null   float64\n",
      " 19  TotalCharges      7043 non-null   float64\n",
      " 20  Churn             7043 non-null   object \n",
      "dtypes: float64(2), int64(2), object(17)\n",
      "memory usage: 1.1+ MB\n"
     ]
    }
   ],
   "source": [
    "df.info()"
   ],
   "metadata": {
    "collapsed": false,
    "ExecuteTime": {
     "end_time": "2024-05-30T16:11:43.846571Z",
     "start_time": "2024-05-30T16:11:43.833905Z"
    }
   },
   "id": "23f8359717b9c9b1",
   "execution_count": 13
  },
  {
   "cell_type": "code",
   "outputs": [
    {
     "data": {
      "text/plain": "       SeniorCitizen       tenure  MonthlyCharges  TotalCharges\ncount    7043.000000  7043.000000     7043.000000   7043.000000\nmean        0.162147    32.371149       64.761692   2279.734304\nstd         0.368612    24.559481       30.090047   2266.794470\nmin         0.000000     0.000000       18.250000      0.000000\n25%         0.000000     9.000000       35.500000    398.550000\n50%         0.000000    29.000000       70.350000   1394.550000\n75%         0.000000    55.000000       89.850000   3786.600000\nmax         1.000000    72.000000      118.750000   8684.800000",
      "text/html": "<div>\n<style scoped>\n    .dataframe tbody tr th:only-of-type {\n        vertical-align: middle;\n    }\n\n    .dataframe tbody tr th {\n        vertical-align: top;\n    }\n\n    .dataframe thead th {\n        text-align: right;\n    }\n</style>\n<table border=\"1\" class=\"dataframe\">\n  <thead>\n    <tr style=\"text-align: right;\">\n      <th></th>\n      <th>SeniorCitizen</th>\n      <th>tenure</th>\n      <th>MonthlyCharges</th>\n      <th>TotalCharges</th>\n    </tr>\n  </thead>\n  <tbody>\n    <tr>\n      <th>count</th>\n      <td>7043.000000</td>\n      <td>7043.000000</td>\n      <td>7043.000000</td>\n      <td>7043.000000</td>\n    </tr>\n    <tr>\n      <th>mean</th>\n      <td>0.162147</td>\n      <td>32.371149</td>\n      <td>64.761692</td>\n      <td>2279.734304</td>\n    </tr>\n    <tr>\n      <th>std</th>\n      <td>0.368612</td>\n      <td>24.559481</td>\n      <td>30.090047</td>\n      <td>2266.794470</td>\n    </tr>\n    <tr>\n      <th>min</th>\n      <td>0.000000</td>\n      <td>0.000000</td>\n      <td>18.250000</td>\n      <td>0.000000</td>\n    </tr>\n    <tr>\n      <th>25%</th>\n      <td>0.000000</td>\n      <td>9.000000</td>\n      <td>35.500000</td>\n      <td>398.550000</td>\n    </tr>\n    <tr>\n      <th>50%</th>\n      <td>0.000000</td>\n      <td>29.000000</td>\n      <td>70.350000</td>\n      <td>1394.550000</td>\n    </tr>\n    <tr>\n      <th>75%</th>\n      <td>0.000000</td>\n      <td>55.000000</td>\n      <td>89.850000</td>\n      <td>3786.600000</td>\n    </tr>\n    <tr>\n      <th>max</th>\n      <td>1.000000</td>\n      <td>72.000000</td>\n      <td>118.750000</td>\n      <td>8684.800000</td>\n    </tr>\n  </tbody>\n</table>\n</div>"
     },
     "execution_count": 14,
     "metadata": {},
     "output_type": "execute_result"
    }
   ],
   "source": [
    "df.describe()"
   ],
   "metadata": {
    "collapsed": false,
    "ExecuteTime": {
     "end_time": "2024-05-30T16:11:44.099826Z",
     "start_time": "2024-05-30T16:11:44.084371Z"
    }
   },
   "id": "e5dbab094ef8788e",
   "execution_count": 14
  },
  {
   "cell_type": "markdown",
   "source": [
    "Типы заменять нигде не нужно. К числовым типам относятся только столбцы `SeniorCitizen`, `tenure`, `MonthlyCharges`, `TotalCharges`. Остальные данные, как и положено, являются категориальными."
   ],
   "metadata": {
    "collapsed": false
   },
   "id": "942c2af3848fad06"
  },
  {
   "cell_type": "markdown",
   "source": [
    "## Обработка признаков"
   ],
   "metadata": {
    "collapsed": false
   },
   "id": "8ca747994426043f"
  },
  {
   "cell_type": "markdown",
   "source": [
    "Необходимо предобработать данные, то есть перевести все текстовые признаки в числовые. Нужно таким образом всегда преобразовывать данные, потому что методы машинного обучения и большинство алгоритмов оперируют именно числовыми признаками. Сделаем копию оригинального датафрейма, чтобы не портить данные."
   ],
   "metadata": {
    "collapsed": false
   },
   "id": "a5465aa9d8810df4"
  },
  {
   "cell_type": "code",
   "outputs": [
    {
     "data": {
      "text/plain": "   customerID  gender  SeniorCitizen Partner Dependents  tenure PhoneService  \\\n0  7590-VHVEG  Female              0     Yes         No       1           No   \n1  5575-GNVDE    Male              0      No         No      34          Yes   \n2  3668-QPYBK    Male              0      No         No       2          Yes   \n3  7795-CFOCW    Male              0      No         No      45           No   \n4  9237-HQITU  Female              0      No         No       2          Yes   \n\n      MultipleLines InternetService OnlineSecurity OnlineBackup  \\\n0  No phone service             DSL             No          Yes   \n1                No             DSL            Yes           No   \n2                No             DSL            Yes          Yes   \n3  No phone service             DSL            Yes           No   \n4                No     Fiber optic             No           No   \n\n  DeviceProtection TechSupport StreamingTV StreamingMovies        Contract  \\\n0               No          No          No              No  Month-to-month   \n1              Yes          No          No              No        One year   \n2               No          No          No              No  Month-to-month   \n3              Yes         Yes          No              No        One year   \n4               No          No          No              No  Month-to-month   \n\n  PaperlessBilling              PaymentMethod  MonthlyCharges  TotalCharges  \\\n0              Yes           Electronic check           29.85         29.85   \n1               No               Mailed check           56.95       1889.50   \n2              Yes               Mailed check           53.85        108.15   \n3               No  Bank transfer (automatic)           42.30       1840.75   \n4              Yes           Electronic check           70.70        151.65   \n\n  Churn  \n0    No  \n1    No  \n2   Yes  \n3    No  \n4   Yes  ",
      "text/html": "<div>\n<style scoped>\n    .dataframe tbody tr th:only-of-type {\n        vertical-align: middle;\n    }\n\n    .dataframe tbody tr th {\n        vertical-align: top;\n    }\n\n    .dataframe thead th {\n        text-align: right;\n    }\n</style>\n<table border=\"1\" class=\"dataframe\">\n  <thead>\n    <tr style=\"text-align: right;\">\n      <th></th>\n      <th>customerID</th>\n      <th>gender</th>\n      <th>SeniorCitizen</th>\n      <th>Partner</th>\n      <th>Dependents</th>\n      <th>tenure</th>\n      <th>PhoneService</th>\n      <th>MultipleLines</th>\n      <th>InternetService</th>\n      <th>OnlineSecurity</th>\n      <th>OnlineBackup</th>\n      <th>DeviceProtection</th>\n      <th>TechSupport</th>\n      <th>StreamingTV</th>\n      <th>StreamingMovies</th>\n      <th>Contract</th>\n      <th>PaperlessBilling</th>\n      <th>PaymentMethod</th>\n      <th>MonthlyCharges</th>\n      <th>TotalCharges</th>\n      <th>Churn</th>\n    </tr>\n  </thead>\n  <tbody>\n    <tr>\n      <th>0</th>\n      <td>7590-VHVEG</td>\n      <td>Female</td>\n      <td>0</td>\n      <td>Yes</td>\n      <td>No</td>\n      <td>1</td>\n      <td>No</td>\n      <td>No phone service</td>\n      <td>DSL</td>\n      <td>No</td>\n      <td>Yes</td>\n      <td>No</td>\n      <td>No</td>\n      <td>No</td>\n      <td>No</td>\n      <td>Month-to-month</td>\n      <td>Yes</td>\n      <td>Electronic check</td>\n      <td>29.85</td>\n      <td>29.85</td>\n      <td>No</td>\n    </tr>\n    <tr>\n      <th>1</th>\n      <td>5575-GNVDE</td>\n      <td>Male</td>\n      <td>0</td>\n      <td>No</td>\n      <td>No</td>\n      <td>34</td>\n      <td>Yes</td>\n      <td>No</td>\n      <td>DSL</td>\n      <td>Yes</td>\n      <td>No</td>\n      <td>Yes</td>\n      <td>No</td>\n      <td>No</td>\n      <td>No</td>\n      <td>One year</td>\n      <td>No</td>\n      <td>Mailed check</td>\n      <td>56.95</td>\n      <td>1889.50</td>\n      <td>No</td>\n    </tr>\n    <tr>\n      <th>2</th>\n      <td>3668-QPYBK</td>\n      <td>Male</td>\n      <td>0</td>\n      <td>No</td>\n      <td>No</td>\n      <td>2</td>\n      <td>Yes</td>\n      <td>No</td>\n      <td>DSL</td>\n      <td>Yes</td>\n      <td>Yes</td>\n      <td>No</td>\n      <td>No</td>\n      <td>No</td>\n      <td>No</td>\n      <td>Month-to-month</td>\n      <td>Yes</td>\n      <td>Mailed check</td>\n      <td>53.85</td>\n      <td>108.15</td>\n      <td>Yes</td>\n    </tr>\n    <tr>\n      <th>3</th>\n      <td>7795-CFOCW</td>\n      <td>Male</td>\n      <td>0</td>\n      <td>No</td>\n      <td>No</td>\n      <td>45</td>\n      <td>No</td>\n      <td>No phone service</td>\n      <td>DSL</td>\n      <td>Yes</td>\n      <td>No</td>\n      <td>Yes</td>\n      <td>Yes</td>\n      <td>No</td>\n      <td>No</td>\n      <td>One year</td>\n      <td>No</td>\n      <td>Bank transfer (automatic)</td>\n      <td>42.30</td>\n      <td>1840.75</td>\n      <td>No</td>\n    </tr>\n    <tr>\n      <th>4</th>\n      <td>9237-HQITU</td>\n      <td>Female</td>\n      <td>0</td>\n      <td>No</td>\n      <td>No</td>\n      <td>2</td>\n      <td>Yes</td>\n      <td>No</td>\n      <td>Fiber optic</td>\n      <td>No</td>\n      <td>No</td>\n      <td>No</td>\n      <td>No</td>\n      <td>No</td>\n      <td>No</td>\n      <td>Month-to-month</td>\n      <td>Yes</td>\n      <td>Electronic check</td>\n      <td>70.70</td>\n      <td>151.65</td>\n      <td>Yes</td>\n    </tr>\n  </tbody>\n</table>\n</div>"
     },
     "execution_count": 15,
     "metadata": {},
     "output_type": "execute_result"
    }
   ],
   "source": [
    "df_copy = df.copy()\n",
    "\n",
    "df_copy.head()"
   ],
   "metadata": {
    "collapsed": false,
    "ExecuteTime": {
     "end_time": "2024-05-30T16:11:44.177582Z",
     "start_time": "2024-05-30T16:11:44.161121Z"
    }
   },
   "id": "a6574010505145c8",
   "execution_count": 15
  },
  {
   "cell_type": "markdown",
   "source": [
    "Для обработки текстовых признаков будем использовать средства библиотеки `Pandas` `Series.cat.codes`. С помощью этой записи можем преобразовать каждое уникальное значение текстовой переменной в уникальный числовой код. Соберем список из тех столбцов, которые нам необходимо обработать."
   ],
   "metadata": {
    "collapsed": false
   },
   "id": "ca025cd35437eea0"
  },
  {
   "cell_type": "code",
   "outputs": [
    {
     "data": {
      "text/plain": "   customerID  gender  SeniorCitizen  Partner  Dependents  tenure  \\\n0  7590-VHVEG       0              0        1           0       1   \n1  5575-GNVDE       1              0        0           0      34   \n2  3668-QPYBK       1              0        0           0       2   \n3  7795-CFOCW       1              0        0           0      45   \n4  9237-HQITU       0              0        0           0       2   \n\n   PhoneService  MultipleLines  InternetService  OnlineSecurity  OnlineBackup  \\\n0             0              1                0               0             2   \n1             1              0                0               2             0   \n2             1              0                0               2             2   \n3             0              1                0               2             0   \n4             1              0                1               0             0   \n\n   DeviceProtection  TechSupport  StreamingTV  StreamingMovies  Contract  \\\n0                 0            0            0                0         0   \n1                 2            0            0                0         1   \n2                 0            0            0                0         0   \n3                 2            2            0                0         1   \n4                 0            0            0                0         0   \n\n   PaperlessBilling  PaymentMethod  MonthlyCharges  TotalCharges  Churn  \n0                 1              2           29.85         29.85      0  \n1                 0              3           56.95       1889.50      0  \n2                 1              3           53.85        108.15      1  \n3                 0              0           42.30       1840.75      0  \n4                 1              2           70.70        151.65      1  ",
      "text/html": "<div>\n<style scoped>\n    .dataframe tbody tr th:only-of-type {\n        vertical-align: middle;\n    }\n\n    .dataframe tbody tr th {\n        vertical-align: top;\n    }\n\n    .dataframe thead th {\n        text-align: right;\n    }\n</style>\n<table border=\"1\" class=\"dataframe\">\n  <thead>\n    <tr style=\"text-align: right;\">\n      <th></th>\n      <th>customerID</th>\n      <th>gender</th>\n      <th>SeniorCitizen</th>\n      <th>Partner</th>\n      <th>Dependents</th>\n      <th>tenure</th>\n      <th>PhoneService</th>\n      <th>MultipleLines</th>\n      <th>InternetService</th>\n      <th>OnlineSecurity</th>\n      <th>OnlineBackup</th>\n      <th>DeviceProtection</th>\n      <th>TechSupport</th>\n      <th>StreamingTV</th>\n      <th>StreamingMovies</th>\n      <th>Contract</th>\n      <th>PaperlessBilling</th>\n      <th>PaymentMethod</th>\n      <th>MonthlyCharges</th>\n      <th>TotalCharges</th>\n      <th>Churn</th>\n    </tr>\n  </thead>\n  <tbody>\n    <tr>\n      <th>0</th>\n      <td>7590-VHVEG</td>\n      <td>0</td>\n      <td>0</td>\n      <td>1</td>\n      <td>0</td>\n      <td>1</td>\n      <td>0</td>\n      <td>1</td>\n      <td>0</td>\n      <td>0</td>\n      <td>2</td>\n      <td>0</td>\n      <td>0</td>\n      <td>0</td>\n      <td>0</td>\n      <td>0</td>\n      <td>1</td>\n      <td>2</td>\n      <td>29.85</td>\n      <td>29.85</td>\n      <td>0</td>\n    </tr>\n    <tr>\n      <th>1</th>\n      <td>5575-GNVDE</td>\n      <td>1</td>\n      <td>0</td>\n      <td>0</td>\n      <td>0</td>\n      <td>34</td>\n      <td>1</td>\n      <td>0</td>\n      <td>0</td>\n      <td>2</td>\n      <td>0</td>\n      <td>2</td>\n      <td>0</td>\n      <td>0</td>\n      <td>0</td>\n      <td>1</td>\n      <td>0</td>\n      <td>3</td>\n      <td>56.95</td>\n      <td>1889.50</td>\n      <td>0</td>\n    </tr>\n    <tr>\n      <th>2</th>\n      <td>3668-QPYBK</td>\n      <td>1</td>\n      <td>0</td>\n      <td>0</td>\n      <td>0</td>\n      <td>2</td>\n      <td>1</td>\n      <td>0</td>\n      <td>0</td>\n      <td>2</td>\n      <td>2</td>\n      <td>0</td>\n      <td>0</td>\n      <td>0</td>\n      <td>0</td>\n      <td>0</td>\n      <td>1</td>\n      <td>3</td>\n      <td>53.85</td>\n      <td>108.15</td>\n      <td>1</td>\n    </tr>\n    <tr>\n      <th>3</th>\n      <td>7795-CFOCW</td>\n      <td>1</td>\n      <td>0</td>\n      <td>0</td>\n      <td>0</td>\n      <td>45</td>\n      <td>0</td>\n      <td>1</td>\n      <td>0</td>\n      <td>2</td>\n      <td>0</td>\n      <td>2</td>\n      <td>2</td>\n      <td>0</td>\n      <td>0</td>\n      <td>1</td>\n      <td>0</td>\n      <td>0</td>\n      <td>42.30</td>\n      <td>1840.75</td>\n      <td>0</td>\n    </tr>\n    <tr>\n      <th>4</th>\n      <td>9237-HQITU</td>\n      <td>0</td>\n      <td>0</td>\n      <td>0</td>\n      <td>0</td>\n      <td>2</td>\n      <td>1</td>\n      <td>0</td>\n      <td>1</td>\n      <td>0</td>\n      <td>0</td>\n      <td>0</td>\n      <td>0</td>\n      <td>0</td>\n      <td>0</td>\n      <td>0</td>\n      <td>1</td>\n      <td>2</td>\n      <td>70.70</td>\n      <td>151.65</td>\n      <td>1</td>\n    </tr>\n  </tbody>\n</table>\n</div>"
     },
     "execution_count": 16,
     "metadata": {},
     "output_type": "execute_result"
    }
   ],
   "source": [
    "cols = ['gender', 'Partner', 'Dependents', 'PhoneService', 'MultipleLines',\n",
    "        'InternetService', 'OnlineSecurity', 'OnlineBackup', 'DeviceProtection', 'TechSupport',\n",
    "        'StreamingTV', 'StreamingMovies', 'Contract', 'PaperlessBilling', 'PaymentMethod',\n",
    "        'Churn']\n",
    "\n",
    "df_copy[cols] = df_copy[cols].astype('category').apply(lambda x: x.cat.codes)\n",
    "\n",
    "df_copy.head()"
   ],
   "metadata": {
    "collapsed": false,
    "ExecuteTime": {
     "end_time": "2024-05-30T16:11:44.345723Z",
     "start_time": "2024-05-30T16:11:44.317798Z"
    }
   },
   "id": "9f0876e21277759",
   "execution_count": 16
  },
  {
   "cell_type": "markdown",
   "source": [
    "Теперь все столбцы имеют числовые признаки, кроме столбца `customerID`. Этот столбец можем просто удалить, потому что он выполняет роль идентификатора клиента. С этим прекрасно справляются обычные индексы."
   ],
   "metadata": {
    "collapsed": false
   },
   "id": "aebaf9ae1162951e"
  },
  {
   "cell_type": "code",
   "outputs": [
    {
     "data": {
      "text/plain": "   gender  SeniorCitizen  Partner  Dependents  tenure  PhoneService  \\\n0       0              0        1           0       1             0   \n1       1              0        0           0      34             1   \n2       1              0        0           0       2             1   \n3       1              0        0           0      45             0   \n4       0              0        0           0       2             1   \n\n   MultipleLines  InternetService  OnlineSecurity  OnlineBackup  \\\n0              1                0               0             2   \n1              0                0               2             0   \n2              0                0               2             2   \n3              1                0               2             0   \n4              0                1               0             0   \n\n   DeviceProtection  TechSupport  StreamingTV  StreamingMovies  Contract  \\\n0                 0            0            0                0         0   \n1                 2            0            0                0         1   \n2                 0            0            0                0         0   \n3                 2            2            0                0         1   \n4                 0            0            0                0         0   \n\n   PaperlessBilling  PaymentMethod  MonthlyCharges  TotalCharges  Churn  \n0                 1              2           29.85         29.85      0  \n1                 0              3           56.95       1889.50      0  \n2                 1              3           53.85        108.15      1  \n3                 0              0           42.30       1840.75      0  \n4                 1              2           70.70        151.65      1  ",
      "text/html": "<div>\n<style scoped>\n    .dataframe tbody tr th:only-of-type {\n        vertical-align: middle;\n    }\n\n    .dataframe tbody tr th {\n        vertical-align: top;\n    }\n\n    .dataframe thead th {\n        text-align: right;\n    }\n</style>\n<table border=\"1\" class=\"dataframe\">\n  <thead>\n    <tr style=\"text-align: right;\">\n      <th></th>\n      <th>gender</th>\n      <th>SeniorCitizen</th>\n      <th>Partner</th>\n      <th>Dependents</th>\n      <th>tenure</th>\n      <th>PhoneService</th>\n      <th>MultipleLines</th>\n      <th>InternetService</th>\n      <th>OnlineSecurity</th>\n      <th>OnlineBackup</th>\n      <th>DeviceProtection</th>\n      <th>TechSupport</th>\n      <th>StreamingTV</th>\n      <th>StreamingMovies</th>\n      <th>Contract</th>\n      <th>PaperlessBilling</th>\n      <th>PaymentMethod</th>\n      <th>MonthlyCharges</th>\n      <th>TotalCharges</th>\n      <th>Churn</th>\n    </tr>\n  </thead>\n  <tbody>\n    <tr>\n      <th>0</th>\n      <td>0</td>\n      <td>0</td>\n      <td>1</td>\n      <td>0</td>\n      <td>1</td>\n      <td>0</td>\n      <td>1</td>\n      <td>0</td>\n      <td>0</td>\n      <td>2</td>\n      <td>0</td>\n      <td>0</td>\n      <td>0</td>\n      <td>0</td>\n      <td>0</td>\n      <td>1</td>\n      <td>2</td>\n      <td>29.85</td>\n      <td>29.85</td>\n      <td>0</td>\n    </tr>\n    <tr>\n      <th>1</th>\n      <td>1</td>\n      <td>0</td>\n      <td>0</td>\n      <td>0</td>\n      <td>34</td>\n      <td>1</td>\n      <td>0</td>\n      <td>0</td>\n      <td>2</td>\n      <td>0</td>\n      <td>2</td>\n      <td>0</td>\n      <td>0</td>\n      <td>0</td>\n      <td>1</td>\n      <td>0</td>\n      <td>3</td>\n      <td>56.95</td>\n      <td>1889.50</td>\n      <td>0</td>\n    </tr>\n    <tr>\n      <th>2</th>\n      <td>1</td>\n      <td>0</td>\n      <td>0</td>\n      <td>0</td>\n      <td>2</td>\n      <td>1</td>\n      <td>0</td>\n      <td>0</td>\n      <td>2</td>\n      <td>2</td>\n      <td>0</td>\n      <td>0</td>\n      <td>0</td>\n      <td>0</td>\n      <td>0</td>\n      <td>1</td>\n      <td>3</td>\n      <td>53.85</td>\n      <td>108.15</td>\n      <td>1</td>\n    </tr>\n    <tr>\n      <th>3</th>\n      <td>1</td>\n      <td>0</td>\n      <td>0</td>\n      <td>0</td>\n      <td>45</td>\n      <td>0</td>\n      <td>1</td>\n      <td>0</td>\n      <td>2</td>\n      <td>0</td>\n      <td>2</td>\n      <td>2</td>\n      <td>0</td>\n      <td>0</td>\n      <td>1</td>\n      <td>0</td>\n      <td>0</td>\n      <td>42.30</td>\n      <td>1840.75</td>\n      <td>0</td>\n    </tr>\n    <tr>\n      <th>4</th>\n      <td>0</td>\n      <td>0</td>\n      <td>0</td>\n      <td>0</td>\n      <td>2</td>\n      <td>1</td>\n      <td>0</td>\n      <td>1</td>\n      <td>0</td>\n      <td>0</td>\n      <td>0</td>\n      <td>0</td>\n      <td>0</td>\n      <td>0</td>\n      <td>0</td>\n      <td>1</td>\n      <td>2</td>\n      <td>70.70</td>\n      <td>151.65</td>\n      <td>1</td>\n    </tr>\n  </tbody>\n</table>\n</div>"
     },
     "execution_count": 17,
     "metadata": {},
     "output_type": "execute_result"
    }
   ],
   "source": [
    "df_copy.drop('customerID', axis=1, inplace=True)\n",
    "\n",
    "df_copy.head()"
   ],
   "metadata": {
    "collapsed": false,
    "ExecuteTime": {
     "end_time": "2024-05-30T16:11:44.421034Z",
     "start_time": "2024-05-30T16:11:44.408839Z"
    }
   },
   "id": "a4016d20e6bfda5a",
   "execution_count": 17
  },
  {
   "cell_type": "code",
   "outputs": [
    {
     "name": "stdout",
     "output_type": "stream",
     "text": [
      "<class 'pandas.core.frame.DataFrame'>\n",
      "RangeIndex: 7043 entries, 0 to 7042\n",
      "Data columns (total 20 columns):\n",
      " #   Column            Non-Null Count  Dtype  \n",
      "---  ------            --------------  -----  \n",
      " 0   gender            7043 non-null   int8   \n",
      " 1   SeniorCitizen     7043 non-null   int64  \n",
      " 2   Partner           7043 non-null   int8   \n",
      " 3   Dependents        7043 non-null   int8   \n",
      " 4   tenure            7043 non-null   int64  \n",
      " 5   PhoneService      7043 non-null   int8   \n",
      " 6   MultipleLines     7043 non-null   int8   \n",
      " 7   InternetService   7043 non-null   int8   \n",
      " 8   OnlineSecurity    7043 non-null   int8   \n",
      " 9   OnlineBackup      7043 non-null   int8   \n",
      " 10  DeviceProtection  7043 non-null   int8   \n",
      " 11  TechSupport       7043 non-null   int8   \n",
      " 12  StreamingTV       7043 non-null   int8   \n",
      " 13  StreamingMovies   7043 non-null   int8   \n",
      " 14  Contract          7043 non-null   int8   \n",
      " 15  PaperlessBilling  7043 non-null   int8   \n",
      " 16  PaymentMethod     7043 non-null   int8   \n",
      " 17  MonthlyCharges    7043 non-null   float64\n",
      " 18  TotalCharges      7043 non-null   float64\n",
      " 19  Churn             7043 non-null   int8   \n",
      "dtypes: float64(2), int64(2), int8(16)\n",
      "memory usage: 330.3 KB\n"
     ]
    }
   ],
   "source": [
    "df_copy.info()"
   ],
   "metadata": {
    "collapsed": false,
    "ExecuteTime": {
     "end_time": "2024-05-30T16:11:44.542977Z",
     "start_time": "2024-05-30T16:11:44.534925Z"
    }
   },
   "id": "6b68d969fd65f66a",
   "execution_count": 18
  },
  {
   "cell_type": "markdown",
   "source": [
    "Теперь все отлично."
   ],
   "metadata": {
    "collapsed": false
   },
   "id": "e0235b3b67d93143"
  },
  {
   "cell_type": "markdown",
   "source": [
    "# Анализ данных, проверка гипотез"
   ],
   "metadata": {
    "collapsed": false
   },
   "id": "4420f23ad370d7"
  },
  {
   "cell_type": "markdown",
   "source": [
    "**Гипотеза** — это предположения. Важно понять, соответствуют ли выборочные данные вероятностным предположениям о группе в целом. Если предположения верны, то данные не должны им противоречить или показывать очень маловероятные результаты. После того как гипотезы были сформулированы, можно приступить к проверке этих гипотез. Существуют двусторонняя и односторонняя гипотезы:\n",
    "\n",
    "**Двусторонняя гипотеза**:\n",
    "\n",
    "**H0** — нулевая гипотеза. Может звучать следующим образом: «Среднее время выполнения задачи на компьютере A не отличается от среднего времени выполнения на компьютере B».\n",
    "**H1** — альтернативная гипотеза. Звучит как: «Среднее время выполнения задачи на компьютере A отличается от среднего времени выполнения на компьютере B».\n",
    "\n",
    "Такая гипотеза называется двусторонней, так как время выполнение задачи на компьютере А может быть как меньше, так и больше, чем на компьютере В.\n",
    "\n",
    "**Односторонняя гипотеза**:\n",
    "\n",
    "**H0** — нулевая гипотеза. Может звучать следующим образом: «Среднее время выполнения задачи на компьютере A равно среднему времени выполнения на компьютере B».\n",
    "**H1** — альтернативная гипотеза. Звучит как: «Среднее время выполнения задачи на компьютере A меньше среднего времени выполнения на компьютере B».\n",
    "\n",
    "Такая гипотеза называется односторонней, так как время выполнение задачи на компьютере может сместиться лишь в одну сторону.\n",
    "\n",
    "Гипотезы проверяются с помощью расчёта **p-value** («значение вероятности») — это вероятность получить наблюдаемые данные (или более экстремальные результаты), если нулевая гипотеза верна. Чем меньше **p-value**, тем больше оснований отклонить нулевую гипотезу и принять альтернативную (различия между группами статистически значимы). Обычно, если **p-value** меньше 0,05 (или 5%), то различия считаются статистически значимыми."
   ],
   "metadata": {
    "collapsed": false
   },
   "id": "1941c09fbedb77e4"
  },
  {
   "cell_type": "markdown",
   "source": [
    "## Статистический анализ на равенство средних двух совокупностей"
   ],
   "metadata": {
    "collapsed": false
   },
   "id": "dfff9c33eb354a71"
  },
  {
   "cell_type": "markdown",
   "source": [
    "Метод `scipy.stats.ttest_ind()` используется для определения статистической значимости различий между средними значениями двух независимых выборок. Она выполняет двухсторонний тест t-критерия Стьюдента и возвращает t-статистику и двустороннее p-значение.\n",
    "\n",
    "Аргументы функции:\n",
    " - первая выборки значений;\n",
    " - вторая выборка значений;\n",
    " - `equal_var` — опциональный параметр для указания равенства дисперсий между двумя выборками. По умолчанию, `equal_var=True`.\n",
    "\n",
    "Перед тем, как проводить тест, нужно придерживаться трех правил:\n",
    "\n",
    "1. **Независимость выборок** — данные в двух группах должны быть независимыми друг от друга. Если рассматриваются две выборки после определенного времени — лучше использовать другой тест.\n",
    "2. **Дисперсии данных в каждой группе должны быть примерно равными.** В принципе, если значений больше 30 и выборки по размеру равны — можно пробовать.\n",
    "3. **Распределение данных в каждой группе должно быть нормальным.** Но это условие тоже не препятствие — как говорилось в прошлом правиле, если значений много — они будут распределены вокруг истинного среднего (среднего генеральной совокупности). Для корректного использования t-теста это необязательно.\n",
    "\n",
    "В параметре `equal_var` указываем `False` только в том случае, если размеры выборок не равны и есть сомнения, что дисперсии равные."
   ],
   "metadata": {
    "collapsed": false
   },
   "id": "28b2a630da0cb1b4"
  },
  {
   "cell_type": "markdown",
   "source": [
    "Сравним две выборки — `Churn='No'` и `Churn='Yes'`. Гипотеза — среднее количество месяцев, в течение которых клиент оставался в компании, отличается между двумя выборками. Предположим, что две выборки являются независимыми. Проверим на равенство средних двух совокупностей."
   ],
   "metadata": {
    "collapsed": false
   },
   "id": "c4693b72430c0f2c"
  },
  {
   "cell_type": "code",
   "outputs": [
    {
     "name": "stdout",
     "output_type": "stream",
     "text": [
      "P-value: 0.00000. H0 отвергается.\n"
     ]
    }
   ],
   "source": [
    "churn_no = df_copy.loc[df_copy.Churn == 0, 'tenure'].reset_index(drop=True) # Series, в котором выбираются только строки с Churn=0 с одним столбцом tenure\n",
    "churn_yes = df_copy.loc[df_copy.Churn == 1, 'tenure'].reset_index(drop=True) # Series, в котором выбираются только строки с Churn=1 с одним столбцом tenure\n",
    "\n",
    "alpha = .05 # Критерий значимости\n",
    "\n",
    "_, p_value = stats.ttest_ind(churn_no, churn_yes)\n",
    "\n",
    "if p_value < alpha:\n",
    "    print(f'P-value: {p_value:.5f}. H0 отвергается.')\n",
    "else:\n",
    "    print(f'P-value: {p_value:.5f}. H0 не отвергается.')"
   ],
   "metadata": {
    "collapsed": false,
    "ExecuteTime": {
     "end_time": "2024-05-30T16:11:44.620492Z",
     "start_time": "2024-05-30T16:11:44.612289Z"
    }
   },
   "id": "d7c0c26741feea2d",
   "execution_count": 19
  },
  {
   "cell_type": "markdown",
   "source": [
    "Среднее количество месяцев, в течение которых клиент оставался в компании, отличается между двумя выборками. То есть гипотеза подтвердилась."
   ],
   "metadata": {
    "collapsed": false
   },
   "id": "82614271ac5d80ff"
  },
  {
   "cell_type": "markdown",
   "source": [
    "## Статистический анализ на норму"
   ],
   "metadata": {
    "collapsed": false
   },
   "id": "301b71db5f521814"
  },
  {
   "cell_type": "markdown",
   "source": [
    "Анализы на норму используются для определения того, нормально ли распределен набор данных, и для проверки того, насколько вероятно, что случайная величина в наборе данных будет нормально распределена.\n",
    "\n",
    "Популярные методы — K'2-тест Д'Агостино, критерий Шапиро-Уилка, критерий Андерсона-Дарлинга.\n",
    "\n",
    "Разница между этими тремя тестами заключается в способе вычисления статистики и критических значений, а также в основе предположений и гипотез о данных. Все три теста предназначены для проверки нормальности данных, но могут давать разные результаты в зависимости от особенностей выборки.\n",
    "\n",
    "Гипотезы:\n",
    "\n",
    "**H0** — выборка имеет распределение по Гауссу (нормальное распределение).\n",
    "**H1** — выборка не имеет распределения по Гауссу (не нормальное распределение).\n",
    "\n",
    "Примечание: тест Шапиро-Уилка **не выполняется** в том случае, если размер выборки > 5000 и для этого теста p-значение может быть неточным для N > 5000."
   ],
   "metadata": {
    "collapsed": false
   },
   "id": "199a35af92ba507e"
  },
  {
   "cell_type": "markdown",
   "source": [
    "Выберем числовые признаки и проведем анализ — соответствуют ли распределения нормальному. Будем проводить статистический анализ на норму с помощью теста К'2-тест Д'Агостино. Тест Шапиро-Уилка использовать не будем, поскольку у нас в выборке более 5000 значений."
   ],
   "metadata": {
    "collapsed": false
   },
   "id": "2a4733b60c9fd0b8"
  },
  {
   "cell_type": "code",
   "outputs": [
    {
     "name": "stdout",
     "output_type": "stream",
     "text": [
      "Столбец: SeniorCitizen\n",
      "P-value: 0.00000. Выборка НЕ имеет распределения по Гауссу (Н0 отвергается).\n",
      "\n",
      "Столбец: tenure\n",
      "P-value: 0.00000. Выборка НЕ имеет распределения по Гауссу (Н0 отвергается).\n",
      "\n",
      "Столбец: MonthlyCharges\n",
      "P-value: 0.00000. Выборка НЕ имеет распределения по Гауссу (Н0 отвергается).\n",
      "\n",
      "Столбец: TotalCharges\n",
      "P-value: 0.00000. Выборка НЕ имеет распределения по Гауссу (Н0 отвергается).\n"
     ]
    }
   ],
   "source": [
    "# Создадим кортеж data, в котором будут храниться все наши столбцы с числовыми признаками\n",
    "data = (df_copy['SeniorCitizen'], df_copy['tenure'], df_copy['MonthlyCharges'], df_copy['TotalCharges'])\n",
    "\n",
    "for col in data:\n",
    "    _, p_value = stats.normaltest(col)\n",
    "    \n",
    "    print(f'Столбец: {col.name}')\n",
    "    \n",
    "    if p_value < alpha:\n",
    "        print(f'P-value: {p_value:.5f}. Выборка НЕ имеет распределения по Гауссу (Н0 отвергается).')\n",
    "    else:\n",
    "        print(f'P-value: {p_value:.5f}. Выборка имеет распределение по Гауссу (Н0 не отвергается).')\n",
    "        \n",
    "    print()"
   ],
   "metadata": {
    "collapsed": false,
    "ExecuteTime": {
     "end_time": "2024-05-30T16:11:44.848293Z",
     "start_time": "2024-05-30T16:11:44.832865Z"
    }
   },
   "id": "705fa12271301775",
   "execution_count": 20
  },
  {
   "cell_type": "markdown",
   "source": [
    "Распределения не соответствуют нормальным."
   ],
   "metadata": {
    "collapsed": false
   },
   "id": "51af5088fde4475e"
  },
  {
   "cell_type": "markdown",
   "source": [
    "## Двумерный анализ"
   ],
   "metadata": {
    "collapsed": false
   },
   "id": "e49e4151977486b3"
  },
  {
   "cell_type": "markdown",
   "source": [
    "Обширный статистический анализ с проверкой различных гипотез на основе парных типов данных: \n",
    "\n",
    "* числовые и числовые данные;\n",
    "* числовые и порядковые данные;\n",
    "* порядковые и порядковые данные;\n",
    "* категориальные и категориальные данные.\n",
    "\n",
    "Основные гипотезы:\n",
    "\n",
    "**H0** — эти два признака независимы.\n",
    "**H1** — существует зависимость между признаками."
   ],
   "metadata": {
    "collapsed": false
   },
   "id": "b42c6197becc8207"
  },
  {
   "cell_type": "markdown",
   "source": [
    "Необходимо выяснить причину ухода клиентов. Для этого проведем полный анализ с помощью статистических гипотез взаимосвязи всех признаков с таргетом `Churn` (целевым признаком). Сформулируем несколько гипотез:\n",
    "\n",
    "1. Пол клиента оказывает влияние на его склонность к уходу.\n",
    "2. Ежемесячная сумма, которую клиент платит, также влияет на его вероятность ухода.\n",
    "3. Способ оплаты, выбранный клиентом, связан с его склонностью к уходу.\n",
    "4. Наличие или отсутствие безналичных счетов у клиента связано с вероятностью его ухода из компании.\n",
    "5. Срок действия контракта заказчика связан с его вероятностью ухода.\n",
    "\n",
    "Для проведения проверки гипотез применим три метода двумерного анализа: коэффициент Пирсона, коэффициент Спирмена и коэффициент V Крамера. Далее проанализируем результаты."
   ],
   "metadata": {
    "collapsed": false
   },
   "id": "37682679bbcbdd37"
  },
  {
   "cell_type": "markdown",
   "source": [
    "Объявим функцию, которая будет искать взаимосвязи в столбцах методами Спирмена и Пирсона."
   ],
   "metadata": {
    "collapsed": false
   },
   "id": "706786ef14d03dce"
  },
  {
   "cell_type": "code",
   "outputs": [],
   "source": [
    "def determine_correlation(targets, features, method): # Функция для определения взаимосвязей между двумя столбцами\n",
    "    alpha = .05 # Критерий значимости\n",
    "    \n",
    "    correlation, p_value = method(targets, features)\n",
    "\n",
    "    print(f'Коэффициент корреляции: {correlation}', f'P_value: {p_value}', sep = '\\n')\n",
    "\n",
    "    if p_value > alpha:\n",
    "        print('Вероятно, у них нет монотонной взаимосвязи (не удается отклонить H0)')\n",
    "    else:\n",
    "        print('Вероятно, имеют монотонную взаимосвязь (отклоняем H0)')"
   ],
   "metadata": {
    "collapsed": false,
    "ExecuteTime": {
     "end_time": "2024-05-30T16:11:44.935828Z",
     "start_time": "2024-05-30T16:11:44.931686Z"
    }
   },
   "id": "affffe1eefa93298",
   "execution_count": 21
  },
  {
   "cell_type": "markdown",
   "source": [
    "### Коэффициент Пирсона"
   ],
   "metadata": {
    "collapsed": false
   },
   "id": "2b352abc1fcdc4de"
  },
  {
   "cell_type": "markdown",
   "source": [
    "Для столбцов `Churn` и `gender`."
   ],
   "metadata": {
    "collapsed": false
   },
   "id": "7141df8bb8003bb3"
  },
  {
   "cell_type": "code",
   "outputs": [
    {
     "name": "stdout",
     "output_type": "stream",
     "text": [
      "Коэффициент корреляции: -0.00861209507899786\n",
      "P_value: 0.46990453909803853\n",
      "Вероятно, у них нет монотонной взаимосвязи (не удается отклонить H0)\n"
     ]
    }
   ],
   "source": [
    "determine_correlation(df_copy['Churn'], df_copy['gender'], stats.pearsonr)"
   ],
   "metadata": {
    "collapsed": false,
    "ExecuteTime": {
     "end_time": "2024-05-30T16:11:45.096457Z",
     "start_time": "2024-05-30T16:11:45.091645Z"
    }
   },
   "id": "9a65feb3637c8a5d",
   "execution_count": 22
  },
  {
   "cell_type": "markdown",
   "source": [
    "Для столбцов `Churn` и `MonthlyCharges`."
   ],
   "metadata": {
    "collapsed": false
   },
   "id": "74ffb0b9a96ea746"
  },
  {
   "cell_type": "code",
   "outputs": [
    {
     "name": "stdout",
     "output_type": "stream",
     "text": [
      "Коэффициент корреляции: 0.19335642223784577\n",
      "P_value: 2.7066456068941355e-60\n",
      "Вероятно, имеют монотонную взаимосвязь (отклоняем H0)\n"
     ]
    }
   ],
   "source": [
    "determine_correlation(df_copy['Churn'], df_copy['MonthlyCharges'], stats.pearsonr)"
   ],
   "metadata": {
    "collapsed": false,
    "ExecuteTime": {
     "end_time": "2024-05-30T16:11:45.136116Z",
     "start_time": "2024-05-30T16:11:45.130640Z"
    }
   },
   "id": "9bd6db2753af37d5",
   "execution_count": 23
  },
  {
   "cell_type": "markdown",
   "source": [
    "Для столбцов `Churn` и `PaymentMethod`."
   ],
   "metadata": {
    "collapsed": false
   },
   "id": "e9f110adeb792968"
  },
  {
   "cell_type": "code",
   "outputs": [
    {
     "name": "stdout",
     "output_type": "stream",
     "text": [
      "Коэффициент корреляции: 0.1070620058734034\n",
      "P_value: 2.0751009725552834e-19\n",
      "Вероятно, имеют монотонную взаимосвязь (отклоняем H0)\n"
     ]
    }
   ],
   "source": [
    "determine_correlation(df_copy['Churn'], df_copy['PaymentMethod'], stats.pearsonr)"
   ],
   "metadata": {
    "collapsed": false,
    "ExecuteTime": {
     "end_time": "2024-05-30T16:11:45.243840Z",
     "start_time": "2024-05-30T16:11:45.238174Z"
    }
   },
   "id": "6414b8dcb286f7d8",
   "execution_count": 24
  },
  {
   "cell_type": "markdown",
   "source": [
    "Для столбцов `Churn` и `PaperlessBilling`."
   ],
   "metadata": {
    "collapsed": false
   },
   "id": "29ee80cc026585ac"
  },
  {
   "cell_type": "code",
   "outputs": [
    {
     "name": "stdout",
     "output_type": "stream",
     "text": [
      "Коэффициент корреляции: 0.19182533166646795\n",
      "P_value: 2.3565543205824073e-59\n",
      "Вероятно, имеют монотонную взаимосвязь (отклоняем H0)\n"
     ]
    }
   ],
   "source": [
    "determine_correlation(df_copy['Churn'], df_copy['PaperlessBilling'], stats.pearsonr)"
   ],
   "metadata": {
    "collapsed": false,
    "ExecuteTime": {
     "end_time": "2024-05-30T16:11:45.290583Z",
     "start_time": "2024-05-30T16:11:45.285557Z"
    }
   },
   "id": "df23a85c2764b7e9",
   "execution_count": 25
  },
  {
   "cell_type": "markdown",
   "source": [
    "Для столбцов `Churn` и `Contract`."
   ],
   "metadata": {
    "collapsed": false
   },
   "id": "accfefc1b229846c"
  },
  {
   "cell_type": "code",
   "outputs": [
    {
     "name": "stdout",
     "output_type": "stream",
     "text": [
      "Коэффициент корреляции: -0.39671262920984096\n",
      "P_value: 3.66667506289468e-264\n",
      "Вероятно, имеют монотонную взаимосвязь (отклоняем H0)\n"
     ]
    }
   ],
   "source": [
    "determine_correlation(df_copy['Churn'], df_copy['Contract'], stats.pearsonr)"
   ],
   "metadata": {
    "collapsed": false,
    "ExecuteTime": {
     "end_time": "2024-05-30T16:11:45.353337Z",
     "start_time": "2024-05-30T16:11:45.348987Z"
    }
   },
   "id": "26923e3e218cf644",
   "execution_count": 26
  },
  {
   "cell_type": "markdown",
   "source": [
    "### Коэффициент Спирмена"
   ],
   "metadata": {
    "collapsed": false
   },
   "id": "cc41deb1779a17fb"
  },
  {
   "cell_type": "markdown",
   "source": [
    "Для столбцов `Churn` и `gender`."
   ],
   "metadata": {
    "collapsed": false
   },
   "id": "2f8a1ea24f69c857"
  },
  {
   "cell_type": "code",
   "outputs": [
    {
     "name": "stdout",
     "output_type": "stream",
     "text": [
      "Коэффициент корреляции: -0.00861209507899781\n",
      "P_value: 0.4699045390980453\n",
      "Вероятно, у них нет монотонной взаимосвязи (не удается отклонить H0)\n"
     ]
    }
   ],
   "source": [
    "determine_correlation(df_copy['Churn'], df_copy['gender'], stats.spearmanr)"
   ],
   "metadata": {
    "collapsed": false,
    "ExecuteTime": {
     "end_time": "2024-05-30T16:11:45.416934Z",
     "start_time": "2024-05-30T16:11:45.411043Z"
    }
   },
   "id": "d21b4d8852013157",
   "execution_count": 27
  },
  {
   "cell_type": "markdown",
   "source": [
    "Для столбцов `Churn` и `MonthlyCharges`."
   ],
   "metadata": {
    "collapsed": false
   },
   "id": "a512425ca430b773"
  },
  {
   "cell_type": "code",
   "outputs": [
    {
     "name": "stdout",
     "output_type": "stream",
     "text": [
      "Коэффициент корреляции: 0.18474274666624488\n",
      "P_value: 4.132385749669143e-55\n",
      "Вероятно, имеют монотонную взаимосвязь (отклоняем H0)\n"
     ]
    }
   ],
   "source": [
    "determine_correlation(df_copy['Churn'], df_copy['MonthlyCharges'], stats.spearmanr)"
   ],
   "metadata": {
    "collapsed": false,
    "ExecuteTime": {
     "end_time": "2024-05-30T16:11:45.512941Z",
     "start_time": "2024-05-30T16:11:45.507671Z"
    }
   },
   "id": "e31a7e2cf5bedb2f",
   "execution_count": 28
  },
  {
   "cell_type": "markdown",
   "source": [
    "Для столбцов `Churn` и `PaymentMethod`."
   ],
   "metadata": {
    "collapsed": false
   },
   "id": "5e0c94a5932a5efb"
  },
  {
   "cell_type": "code",
   "outputs": [
    {
     "name": "stdout",
     "output_type": "stream",
     "text": [
      "Коэффициент корреляции: 0.10226975470600297\n",
      "P_value: 7.712949067558699e-18\n",
      "Вероятно, имеют монотонную взаимосвязь (отклоняем H0)\n"
     ]
    }
   ],
   "source": [
    "determine_correlation(df_copy['Churn'], df_copy['PaymentMethod'], stats.spearmanr)"
   ],
   "metadata": {
    "collapsed": false,
    "ExecuteTime": {
     "end_time": "2024-05-30T16:11:45.582515Z",
     "start_time": "2024-05-30T16:11:45.577061Z"
    }
   },
   "id": "1033e51419b20c22",
   "execution_count": 29
  },
  {
   "cell_type": "markdown",
   "source": [
    "Для столбцов `Churn` и `PaperlessBilling`."
   ],
   "metadata": {
    "collapsed": false
   },
   "id": "f4ee5737377bdfd9"
  },
  {
   "cell_type": "code",
   "outputs": [
    {
     "name": "stdout",
     "output_type": "stream",
     "text": [
      "Коэффициент корреляции: 0.19182533166646787\n",
      "P_value: 2.356554320581795e-59\n",
      "Вероятно, имеют монотонную взаимосвязь (отклоняем H0)\n"
     ]
    }
   ],
   "source": [
    "determine_correlation(df_copy['Churn'], df_copy['PaperlessBilling'], stats.spearmanr)"
   ],
   "metadata": {
    "collapsed": false,
    "ExecuteTime": {
     "end_time": "2024-05-30T16:11:45.643363Z",
     "start_time": "2024-05-30T16:11:45.637854Z"
    }
   },
   "id": "4a03571e0bbc63d",
   "execution_count": 30
  },
  {
   "cell_type": "markdown",
   "source": [
    "Для столбцов `Churn` и `Contract`."
   ],
   "metadata": {
    "collapsed": false
   },
   "id": "8e4366e1527a3b83"
  },
  {
   "cell_type": "code",
   "outputs": [
    {
     "name": "stdout",
     "output_type": "stream",
     "text": [
      "Коэффициент корреляции: -0.4062615766488807\n",
      "P_value: 3.779860316096388e-278\n",
      "Вероятно, имеют монотонную взаимосвязь (отклоняем H0)\n"
     ]
    }
   ],
   "source": [
    "determine_correlation(df_copy['Churn'], df_copy['Contract'], stats.spearmanr)"
   ],
   "metadata": {
    "collapsed": false,
    "ExecuteTime": {
     "end_time": "2024-05-30T16:11:45.694666Z",
     "start_time": "2024-05-30T16:11:45.689313Z"
    }
   },
   "id": "fc576fbd8e9c840d",
   "execution_count": 31
  },
  {
   "cell_type": "markdown",
   "source": [
    "Исходя из этого можно сделать вывод, что коэффициенты Спирмена и Пирсона в целом дают схожие результаты и все упомянутые признаки в некоторой степени коррелируют с целевым признаком (`Churn`), за исключением пола (`gender`). Пол не имеет никакой связи с целевым признаком. То есть, все гипотезы подтвердились, кроме первой."
   ],
   "metadata": {
    "collapsed": false
   },
   "id": "c8d421c7d7944279"
  },
  {
   "cell_type": "markdown",
   "source": [
    "### Коэффициент V Крамера"
   ],
   "metadata": {
    "collapsed": false
   },
   "id": "f4ce94210cb5147b"
  },
  {
   "cell_type": "markdown",
   "source": [
    "Объявим функцию, которая будет искать взаимосвязи в столбцах методом V Крамера."
   ],
   "metadata": {
    "collapsed": false
   },
   "id": "dfd7957973d0d6c2"
  },
  {
   "cell_type": "code",
   "outputs": [],
   "source": [
    "# Метод V Крамера\n",
    "def cramers_v(x, y):\n",
    "    confusion_matrix = pd.crosstab(x, y)\n",
    "    \n",
    "    chi2 = stats.chi2_contingency(confusion_matrix)[0]\n",
    "    n = confusion_matrix.sum().sum()\n",
    "    phi2 = chi2 / n\n",
    "    r, k = confusion_matrix.shape\n",
    "    phi2corr = max(0, phi2 - ((k - 1) * (r - 1)) / (n - 1))\n",
    "    rcorr = r - ((r - 1) ** 2) / (n - 1)\n",
    "    kcorr = k - ((k - 1) ** 2) / (n - 1)\n",
    "    \n",
    "    return np.sqrt(phi2corr / min((kcorr - 1), (rcorr - 1)))"
   ],
   "metadata": {
    "collapsed": false,
    "ExecuteTime": {
     "end_time": "2024-05-30T16:11:45.794536Z",
     "start_time": "2024-05-30T16:11:45.789945Z"
    }
   },
   "id": "28504245a1404c3d",
   "execution_count": 32
  },
  {
   "cell_type": "code",
   "outputs": [
    {
     "name": "stdout",
     "output_type": "stream",
     "text": [
      "Коэффициент корреляции для столбцов Churn и gender равен\n",
      "0.0\n",
      "Коэффициент корреляции для столбцов Churn и MonthlyCharges равен\n",
      "0.277\n",
      "Коэффициент корреляции для столбцов Churn и PaymentMethod равен\n",
      "0.303\n",
      "Коэффициент корреляции для столбцов Churn и PaperlessBilling равен\n",
      "0.191\n",
      "Коэффициент корреляции для столбцов Churn и Contract равен\n",
      "0.41\n"
     ]
    }
   ],
   "source": [
    "features = ['gender', 'MonthlyCharges', 'PaymentMethod', 'PaperlessBilling', 'Contract']\n",
    "\n",
    "for feature in features:\n",
    "    print(f'Коэффициент корреляции для столбцов Churn и {feature} равен\\n{cramers_v(df[\"Churn\"], df[feature]).round(3)}')"
   ],
   "metadata": {
    "collapsed": false,
    "ExecuteTime": {
     "end_time": "2024-05-30T16:11:45.887517Z",
     "start_time": "2024-05-30T16:11:45.817595Z"
    }
   },
   "id": "6df9456785916dad",
   "execution_count": 33
  },
  {
   "cell_type": "markdown",
   "source": [
    "Из этого можно сделать вывод, что вероятность ухода клиента не зависит от его пола, однако все остальные признаки в разной степени коррелируют между собой."
   ],
   "metadata": {
    "collapsed": false
   },
   "id": "5fccbe0a9b15f03e"
  },
  {
   "cell_type": "markdown",
   "source": [
    "### Phik-корреляция"
   ],
   "metadata": {
    "collapsed": false
   },
   "id": "603736f6c26303f6"
  },
  {
   "cell_type": "markdown",
   "source": [
    "**Phik** (φk) корреляция — это относительно новый метод оценки зависимости между двумя переменными, независимо от их типа (категориальные или числовые). В отличие от традиционных методов корреляции, таких как коэффициенты Пирсона или Спирмена, Phik корреляция может справляться с любыми типами данных и обеспечивает более надежные результаты для нелинейных и сложных зависимостей."
   ],
   "metadata": {
    "collapsed": false
   },
   "id": "a454bcc42c97e283"
  },
  {
   "cell_type": "code",
   "outputs": [
    {
     "name": "stdout",
     "output_type": "stream",
     "text": [
      "interval columns not set, guessing: ['gender', 'SeniorCitizen', 'Partner', 'Dependents', 'tenure', 'PhoneService', 'MultipleLines', 'InternetService', 'OnlineSecurity', 'OnlineBackup', 'DeviceProtection', 'TechSupport', 'StreamingTV', 'StreamingMovies', 'Contract', 'PaperlessBilling', 'PaymentMethod', 'MonthlyCharges', 'TotalCharges', 'Churn']\n"
     ]
    },
    {
     "data": {
      "text/plain": "<Figure size 1200x1200 with 2 Axes>",
      "image/png": "[encoded data removed]"
     },
     "metadata": {},
     "output_type": "display_data"
    }
   ],
   "source": [
    "phik_overview = df_copy.phik_matrix()\n",
    "\n",
    "plot_correlation_matrix(phik_overview.values,\n",
    "                        x_labels=phik_overview.columns,\n",
    "                        y_labels=phik_overview.index,\n",
    "                        vmin=0, vmax=1, color_map='Greens',\n",
    "                        title=r'Корреляция $\\phi_K$',\n",
    "                        fontsize_factor=0.8, figsize=(12, 12))\n",
    "\n",
    "plt.tight_layout()"
   ],
   "metadata": {
    "collapsed": false,
    "ExecuteTime": {
     "end_time": "2024-05-30T16:11:51.670532Z",
     "start_time": "2024-05-30T16:11:45.930048Z"
    }
   },
   "id": "42cd6dfe7dd2f66a",
   "execution_count": 34
  },
  {
   "cell_type": "markdown",
   "source": [
    "Исходя из этого, можно сделать промежуточный вывод, что гипотезы в целом подтверждаются. Пол не имеет никакой связи с признаком `Churn`. Однако, столбцы `tenure`, `PaymentMethod`, `MonthlyCharges`, `PaperlessBilling` и `Contract` имеют наибольшую связь с признаком `Churn`. Выберем три признака, которые имеют связь с целевой переменной, и проанализируем их взаимосвязь. После этого сможем интерпретировать результаты исследования."
   ],
   "metadata": {
    "collapsed": false
   },
   "id": "a231083daff56953"
  },
  {
   "cell_type": "markdown",
   "source": [
    "Сгрупируем данные, чтобы проверить, как именно связаны между собой два признака `Churn` и `tenure`.\n",
    "\n",
    "* 0 -> не покинули компанию;\n",
    "* 1 -> покинули компанию."
   ],
   "metadata": {
    "collapsed": false
   },
   "id": "ecc19f8ecbb8895"
  },
  {
   "cell_type": "code",
   "outputs": [
    {
     "data": {
      "text/plain": "   Churn  median_tenure\n0      0           38.0\n1      1           10.0",
      "text/html": "<div>\n<style scoped>\n    .dataframe tbody tr th:only-of-type {\n        vertical-align: middle;\n    }\n\n    .dataframe tbody tr th {\n        vertical-align: top;\n    }\n\n    .dataframe thead th {\n        text-align: right;\n    }\n</style>\n<table border=\"1\" class=\"dataframe\">\n  <thead>\n    <tr style=\"text-align: right;\">\n      <th></th>\n      <th>Churn</th>\n      <th>median_tenure</th>\n    </tr>\n  </thead>\n  <tbody>\n    <tr>\n      <th>0</th>\n      <td>0</td>\n      <td>38.0</td>\n    </tr>\n    <tr>\n      <th>1</th>\n      <td>1</td>\n      <td>10.0</td>\n    </tr>\n  </tbody>\n</table>\n</div>"
     },
     "execution_count": 35,
     "metadata": {},
     "output_type": "execute_result"
    }
   ],
   "source": [
    "df_copy.groupby(by='Churn', as_index=False).agg(median_tenure = ('tenure', 'median'))"
   ],
   "metadata": {
    "collapsed": false,
    "ExecuteTime": {
     "end_time": "2024-05-30T16:11:51.683352Z",
     "start_time": "2024-05-30T16:11:51.671552Z"
    }
   },
   "id": "1427d31ac5538e1a",
   "execution_count": 35
  },
  {
   "cell_type": "markdown",
   "source": [
    "Отсюда можно сделать вывод: клиенты, которые склонны покинуть компанию, пробыли в ней меньше времени, в то время как клиенты, которые остаются, провели в ней больше времени."
   ],
   "metadata": {
    "collapsed": false
   },
   "id": "9541414dad0dfee0"
  },
  {
   "cell_type": "markdown",
   "source": [
    "Сгрупируем данные, чтобы проверить, как связаны между собой два признака `Churn` и `MonthlyCharges`."
   ],
   "metadata": {
    "collapsed": false
   },
   "id": "e809a4668ae0d009"
  },
  {
   "cell_type": "code",
   "outputs": [
    {
     "data": {
      "text/plain": "   Churn  median_monthly_charges\n0      0                  64.425\n1      1                  79.650",
      "text/html": "<div>\n<style scoped>\n    .dataframe tbody tr th:only-of-type {\n        vertical-align: middle;\n    }\n\n    .dataframe tbody tr th {\n        vertical-align: top;\n    }\n\n    .dataframe thead th {\n        text-align: right;\n    }\n</style>\n<table border=\"1\" class=\"dataframe\">\n  <thead>\n    <tr style=\"text-align: right;\">\n      <th></th>\n      <th>Churn</th>\n      <th>median_monthly_charges</th>\n    </tr>\n  </thead>\n  <tbody>\n    <tr>\n      <th>0</th>\n      <td>0</td>\n      <td>64.425</td>\n    </tr>\n    <tr>\n      <th>1</th>\n      <td>1</td>\n      <td>79.650</td>\n    </tr>\n  </tbody>\n</table>\n</div>"
     },
     "execution_count": 36,
     "metadata": {},
     "output_type": "execute_result"
    }
   ],
   "source": [
    "df_copy.groupby('Churn', as_index=False).agg(median_monthly_charges = ('MonthlyCharges', 'median'))"
   ],
   "metadata": {
    "collapsed": false,
    "ExecuteTime": {
     "end_time": "2024-05-30T16:11:51.695116Z",
     "start_time": "2024-05-30T16:11:51.684363Z"
    }
   },
   "id": "94d82efa78275e5a",
   "execution_count": 36
  },
  {
   "cell_type": "markdown",
   "source": [
    "Можно сделать вывод, что клиенты, которые имеют склонность покинуть компанию, обычно платят за услуги больше, в сравнении с клиентами, которые предпочитают оставаться."
   ],
   "metadata": {
    "collapsed": false
   },
   "id": "713d5afeafe22471"
  },
  {
   "cell_type": "markdown",
   "source": [
    "Сгрупируем данные, чтобы проверить, как связаны между собой признаки `Churn` и `PaperlessBilling`.\n",
    "\n"
   ],
   "metadata": {
    "collapsed": false
   },
   "id": "c0910ecc287a3ccd"
  },
  {
   "cell_type": "code",
   "outputs": [
    {
     "data": {
      "text/plain": "   Churn  num_of_paperless_billings\n0      0                       2771\n1      1                       1400",
      "text/html": "<div>\n<style scoped>\n    .dataframe tbody tr th:only-of-type {\n        vertical-align: middle;\n    }\n\n    .dataframe tbody tr th {\n        vertical-align: top;\n    }\n\n    .dataframe thead th {\n        text-align: right;\n    }\n</style>\n<table border=\"1\" class=\"dataframe\">\n  <thead>\n    <tr style=\"text-align: right;\">\n      <th></th>\n      <th>Churn</th>\n      <th>num_of_paperless_billings</th>\n    </tr>\n  </thead>\n  <tbody>\n    <tr>\n      <th>0</th>\n      <td>0</td>\n      <td>2771</td>\n    </tr>\n    <tr>\n      <th>1</th>\n      <td>1</td>\n      <td>1400</td>\n    </tr>\n  </tbody>\n</table>\n</div>"
     },
     "execution_count": 37,
     "metadata": {},
     "output_type": "execute_result"
    }
   ],
   "source": [
    "df_copy.groupby('Churn', as_index=False).agg(num_of_paperless_billings = ('PaperlessBilling', 'sum'))"
   ],
   "metadata": {
    "collapsed": false,
    "ExecuteTime": {
     "end_time": "2024-05-30T16:11:51.707255Z",
     "start_time": "2024-05-30T16:11:51.696127Z"
    }
   },
   "id": "80f4c72201ff9f76",
   "execution_count": 37
  },
  {
   "cell_type": "markdown",
   "source": [
    "Как можно заметить, среди клиентов, которые проявляют склонность к оттоку, намного меньше таких, у которых имеются безналичные счета."
   ],
   "metadata": {
    "collapsed": false
   },
   "id": "f536d8a8ab474378"
  },
  {
   "cell_type": "markdown",
   "source": [
    "# Вывод"
   ],
   "metadata": {
    "collapsed": false
   },
   "id": "9764e16e94e724df"
  },
  {
   "cell_type": "markdown",
   "source": [
    "В результате исследования было обнаружено, что пол `gender` не имеет связи с таргетом `Churn`. Однако, следующие признаки — `tenure`, `PaymentMethod`, `MonthlyCharges`, `PaperlessBilling` и `Contract` — в большей мере коррелируют с целевым признаком. Можно также сделать следующие выводы:\n",
    "\n",
    "1. Коэффициент корреляции 0.47 между столбцами `Churn` и `tenure` указывает на наличие положительной связи между ними. Это означает, что длительность пребывания клиента в компании (`tenure`) является фактором, который может влиять на решение клиента остаться в компании или уйти. Отсюда возникает логичный вывод, что чем дольше клиент остается в компании, тем меньше вероятность того, что он уйдет. Поэтому важно привлекать новых клиентов и удерживать их, чтобы они оставались в компании как можно дольше. Если компания уделяет внимание удержанию своих клиентов, то это может помочь уменьшить отток клиентов и увеличить прибыль компании.\n",
    "\n",
    "2. Коэффициент корреляции 0.36 между столбцами `Churn` и `MonthlyCharges` указывает на наличие положительной связи между ними. Это говорит о том, что сумма, которую клиенты платят ежемесячно, может оказывать влияние на решение об уходе из компании. Возможно, клиенты, которые платят большую сумму, имеют определенные ожидания от услуг и качества обслуживания. Для удержания клиентов, компания может обратить внимание на ценообразование или улучшить качество предоставляемых услуг.\n",
    "\n",
    "3. Коэффициент корреляции 0.3 между столбцами `Churn` и `PaperlessBilling` указывает на положительную связь. Это говорит о том, что наличие или отсутствие безналичных счетов может оказывать влияние на решение клиентов об уходе из компании. Вероятно, клиенты, которые предпочитают использовать безналичные счета, ценят дополнительные преимущества и удобство, которые компания может предоставить. В связи с этим, клиенты, которые предпочитают оплачивать наличными деньгами, могут быть более склонными к оттоку, поскольку им не доступны эти дополнительные преимущества. Можно применить два подхода: предоставить больше преимуществ клиентам с наличным платежом для снижения их оттока, учитывая при этом возможные ограничения. Также можно сосредоточиться на предоставлении дополнительных преимуществ клиентам, использующим безналичные счета, включая выгодные условия или специальные акции, чтобы стимулировать переход на безналичный расчет клиентов, которые пользуются наличкой. Такой подход позволит расширить базу клиентов и способствовать росту использования безналичных счетов.\n",
    "\n",
    "Упомянутые факторы не охватывают все возможные причины ухода клиента из компании. Однако, принимая во внимание представленные выше аспекты, возможно достичь значительного снижения оттока клиентов и увеличить прибыль."
   ],
   "metadata": {
    "collapsed": false
   },
   "id": "bc9798764868cfd"
  },
  {
   "cell_type": "code",
   "outputs": [],
   "source": [],
   "metadata": {
    "collapsed": false,
    "ExecuteTime": {
     "end_time": "2024-05-30T16:11:51.710772Z",
     "start_time": "2024-05-30T16:11:51.708266Z"
    }
   },
   "id": "76ec5f8dff292cc3",
   "execution_count": 37
  }
 ],
 "metadata": {
  "kernelspec": {
   "display_name": "Python 3",
   "language": "python",
   "name": "python3"
  },
  "language_info": {
   "codemirror_mode": {
    "name": "ipython",
    "version": 2
   },
   "file_extension": ".py",
   "mimetype": "text/x-python",
   "name": "python",
   "nbconvert_exporter": "python",
   "pygments_lexer": "ipython2",
   "version": "2.7.6"
  }
 },
 "nbformat": 4,
 "nbformat_minor": 5
}
